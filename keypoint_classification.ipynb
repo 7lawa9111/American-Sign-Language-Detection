{
  "cells": [
    {
      "cell_type": "code",
      "execution_count": 56,
      "metadata": {
        "id": "igMyGnjE9hEp"
      },
      "outputs": [],
      "source": [
        "import csv\n",
        "\n",
        "import numpy as np\n",
        "import tensorflow as tf\n",
        "from sklearn.model_selection import train_test_split\n",
        "\n",
        "RANDOM_SEED = 42"
      ]
    },
    {
      "cell_type": "markdown",
      "metadata": {
        "id": "t2HDvhIu9hEr"
      },
      "source": [
        "# Specify each path"
      ]
    },
    {
      "cell_type": "code",
      "execution_count": 57,
      "metadata": {
        "id": "9NvZP2Zn9hEy"
      },
      "outputs": [],
      "source": [
        "dataset = 'model/keypoint_classifier/keypoint.csv'\n",
        "model_save_path = 'model/keypoint_classifier/keypoint_classifier.keras'\n",
        "tflite_save_path = 'model/keypoint_classifier/keypoint_classifier.tflite'"
      ]
    },
    {
      "cell_type": "markdown",
      "metadata": {
        "id": "s5oMH7x19hEz"
      },
      "source": [
        "# Set number of classes"
      ]
    },
    {
      "cell_type": "code",
      "execution_count": 58,
      "metadata": {
        "id": "du4kodXL9hEz"
      },
      "outputs": [],
      "source": [
        "NUM_CLASSES = 26"
      ]
    },
    {
      "cell_type": "markdown",
      "metadata": {
        "id": "XjnL0uso9hEz"
      },
      "source": [
        "# Dataset reading"
      ]
    },
    {
      "cell_type": "code",
      "execution_count": 59,
      "metadata": {
        "id": "QT5ZqtEz9hE0"
      },
      "outputs": [],
      "source": [
        "X_dataset = np.loadtxt(dataset, delimiter=',', dtype='float32', usecols=list(range(1, (21 * 2) + 1)))"
      ]
    },
    {
      "cell_type": "code",
      "execution_count": 60,
      "metadata": {
        "id": "QmoKFsp49hE0"
      },
      "outputs": [],
      "source": [
        "y_dataset = np.loadtxt(dataset, delimiter=',', dtype='int32', usecols=(0))"
      ]
    },
    {
      "cell_type": "code",
      "execution_count": 61,
      "metadata": {
        "id": "xQU7JTZ_9hE0"
      },
      "outputs": [],
      "source": [
        "X_train, X_test, y_train, y_test = train_test_split(X_dataset, y_dataset, train_size=0.75, random_state=RANDOM_SEED)"
      ]
    },
    {
      "cell_type": "markdown",
      "metadata": {
        "id": "mxK_lETT9hE0"
      },
      "source": [
        "# Model building"
      ]
    },
    {
      "cell_type": "code",
      "execution_count": 62,
      "metadata": {
        "id": "vHBmUf1t9hE1"
      },
      "outputs": [],
      "source": [
        "model = tf.keras.models.Sequential([\n",
        "    tf.keras.layers.Input((21 * 2, )),\n",
        "    tf.keras.layers.Dropout(0.2),\n",
        "    tf.keras.layers.Dense(20, activation='relu'),\n",
        "    tf.keras.layers.Dropout(0.4),\n",
        "    tf.keras.layers.Dense(10, activation='relu'),\n",
        "    tf.keras.layers.Dense(NUM_CLASSES, activation='softmax')\n",
        "])"
      ]
    },
    {
      "cell_type": "code",
      "execution_count": 63,
      "metadata": {
        "colab": {
          "base_uri": "https://localhost:8080/"
        },
        "id": "ypqky9tc9hE1",
        "outputId": "5db082bb-30e3-4110-bf63-a1ee777ecd46"
      },
      "outputs": [
        {
          "name": "stdout",
          "output_type": "stream",
          "text": [
            "Model: \"sequential_3\"\n",
            "_________________________________________________________________\n",
            " Layer (type)                Output Shape              Param #   \n",
            "=================================================================\n",
            " dropout_6 (Dropout)         (None, 42)                0         \n",
            "                                                                 \n",
            " dense_9 (Dense)             (None, 20)                860       \n",
            "                                                                 \n",
            " dropout_7 (Dropout)         (None, 20)                0         \n",
            "                                                                 \n",
            " dense_10 (Dense)            (None, 10)                210       \n",
            "                                                                 \n",
            " dense_11 (Dense)            (None, 26)                286       \n",
            "                                                                 \n",
            "=================================================================\n",
            "Total params: 1356 (5.30 KB)\n",
            "Trainable params: 1356 (5.30 KB)\n",
            "Non-trainable params: 0 (0.00 Byte)\n",
            "_________________________________________________________________\n"
          ]
        }
      ],
      "source": [
        "model.summary()  # tf.keras.utils.plot_model(model, show_shapes=True)"
      ]
    },
    {
      "cell_type": "code",
      "execution_count": 64,
      "metadata": {
        "id": "MbMjOflQ9hE1"
      },
      "outputs": [],
      "source": [
        "# Model checkpoint callback\n",
        "cp_callback = tf.keras.callbacks.ModelCheckpoint(\n",
        "    model_save_path, verbose=1, save_weights_only=False)\n",
        "# Callback for early stopping\n",
        "es_callback = tf.keras.callbacks.EarlyStopping(patience=20, verbose=1)"
      ]
    },
    {
      "cell_type": "code",
      "execution_count": 65,
      "metadata": {
        "id": "c3Dac0M_9hE2"
      },
      "outputs": [],
      "source": [
        "# Model compilation\n",
        "model.compile(\n",
        "    optimizer='adam',\n",
        "    loss='sparse_categorical_crossentropy',\n",
        "    metrics=['accuracy']\n",
        ")"
      ]
    },
    {
      "cell_type": "markdown",
      "metadata": {
        "id": "7XI0j1Iu9hE2"
      },
      "source": [
        "# Model training"
      ]
    },
    {
      "cell_type": "code",
      "execution_count": 66,
      "metadata": {
        "colab": {
          "base_uri": "https://localhost:8080/"
        },
        "id": "WirBl-JE9hE3",
        "outputId": "71b30ca2-8294-4d9d-8aa2-800d90d399de",
        "scrolled": true
      },
      "outputs": [
        {
          "name": "stdout",
          "output_type": "stream",
          "text": [
            "Epoch 1/1000\n",
            "124/140 [=========================>....] - ETA: 0s - loss: 3.0345 - accuracy: 0.1045\n",
            "Epoch 1: saving model to model/keypoint_classifier\\keypoint_classifier.keras\n",
            "140/140 [==============================] - 1s 4ms/step - loss: 3.0032 - accuracy: 0.1186 - val_loss: 2.6142 - val_accuracy: 0.2778\n",
            "Epoch 2/1000\n",
            " 99/140 [====================>.........] - ETA: 0s - loss: 2.5824 - accuracy: 0.2585\n",
            "Epoch 2: saving model to model/keypoint_classifier\\keypoint_classifier.keras\n",
            "140/140 [==============================] - 0s 2ms/step - loss: 2.5437 - accuracy: 0.2685 - val_loss: 2.2126 - val_accuracy: 0.4018\n",
            "Epoch 3/1000\n",
            " 93/140 [==================>...........] - ETA: 0s - loss: 2.3079 - accuracy: 0.3239\n",
            "Epoch 3: saving model to model/keypoint_classifier\\keypoint_classifier.keras\n",
            "140/140 [==============================] - 0s 2ms/step - loss: 2.2581 - accuracy: 0.3377 - val_loss: 1.8150 - val_accuracy: 0.4793\n",
            "Epoch 4/1000\n",
            "105/140 [=====================>........] - ETA: 0s - loss: 2.0211 - accuracy: 0.3965\n",
            "Epoch 4: saving model to model/keypoint_classifier\\keypoint_classifier.keras\n",
            "140/140 [==============================] - 0s 1ms/step - loss: 1.9916 - accuracy: 0.4041 - val_loss: 1.5068 - val_accuracy: 0.6240\n",
            "Epoch 5/1000\n",
            "105/140 [=====================>........] - ETA: 0s - loss: 1.8462 - accuracy: 0.4389\n",
            "Epoch 5: saving model to model/keypoint_classifier\\keypoint_classifier.keras\n",
            "140/140 [==============================] - 0s 1ms/step - loss: 1.8315 - accuracy: 0.4438 - val_loss: 1.3491 - val_accuracy: 0.6611\n",
            "Epoch 6/1000\n",
            " 91/140 [==================>...........] - ETA: 0s - loss: 1.7579 - accuracy: 0.4595\n",
            "Epoch 6: saving model to model/keypoint_classifier\\keypoint_classifier.keras\n",
            "140/140 [==============================] - 0s 1ms/step - loss: 1.7490 - accuracy: 0.4611 - val_loss: 1.2401 - val_accuracy: 0.6754\n",
            "Epoch 7/1000\n",
            "116/140 [=======================>......] - ETA: 0s - loss: 1.6836 - accuracy: 0.4831\n",
            "Epoch 7: saving model to model/keypoint_classifier\\keypoint_classifier.keras\n",
            "140/140 [==============================] - 0s 1ms/step - loss: 1.6762 - accuracy: 0.4837 - val_loss: 1.1492 - val_accuracy: 0.6851\n",
            "Epoch 8/1000\n",
            "138/140 [============================>.] - ETA: 0s - loss: 1.6028 - accuracy: 0.5043\n",
            "Epoch 8: saving model to model/keypoint_classifier\\keypoint_classifier.keras\n",
            "140/140 [==============================] - 0s 2ms/step - loss: 1.6031 - accuracy: 0.5041 - val_loss: 1.0886 - val_accuracy: 0.6927\n",
            "Epoch 9/1000\n",
            "100/140 [====================>.........] - ETA: 0s - loss: 1.5730 - accuracy: 0.5081\n",
            "Epoch 9: saving model to model/keypoint_classifier\\keypoint_classifier.keras\n",
            "140/140 [==============================] - 0s 1ms/step - loss: 1.5662 - accuracy: 0.5101 - val_loss: 1.0365 - val_accuracy: 0.6947\n",
            "Epoch 10/1000\n",
            "102/140 [====================>.........] - ETA: 0s - loss: 1.5282 - accuracy: 0.5233\n",
            "Epoch 10: saving model to model/keypoint_classifier\\keypoint_classifier.keras\n",
            "140/140 [==============================] - 0s 1ms/step - loss: 1.5220 - accuracy: 0.5245 - val_loss: 0.9951 - val_accuracy: 0.7008\n",
            "Epoch 11/1000\n",
            "104/140 [=====================>........] - ETA: 0s - loss: 1.5085 - accuracy: 0.5231\n",
            "Epoch 11: saving model to model/keypoint_classifier\\keypoint_classifier.keras\n",
            "140/140 [==============================] - 0s 1ms/step - loss: 1.5052 - accuracy: 0.5243 - val_loss: 0.9603 - val_accuracy: 0.7011\n",
            "Epoch 12/1000\n",
            " 98/140 [====================>.........] - ETA: 0s - loss: 1.4718 - accuracy: 0.5351\n",
            "Epoch 12: saving model to model/keypoint_classifier\\keypoint_classifier.keras\n",
            "140/140 [==============================] - 0s 2ms/step - loss: 1.4783 - accuracy: 0.5329 - val_loss: 0.9338 - val_accuracy: 0.7111\n",
            "Epoch 13/1000\n",
            "106/140 [=====================>........] - ETA: 0s - loss: 1.4528 - accuracy: 0.5469\n",
            "Epoch 13: saving model to model/keypoint_classifier\\keypoint_classifier.keras\n",
            "140/140 [==============================] - 0s 1ms/step - loss: 1.4516 - accuracy: 0.5455 - val_loss: 0.9130 - val_accuracy: 0.7141\n",
            "Epoch 14/1000\n",
            "103/140 [=====================>........] - ETA: 0s - loss: 1.4161 - accuracy: 0.5476\n",
            "Epoch 14: saving model to model/keypoint_classifier\\keypoint_classifier.keras\n",
            "140/140 [==============================] - 0s 1ms/step - loss: 1.4226 - accuracy: 0.5468 - val_loss: 0.8897 - val_accuracy: 0.7241\n",
            "Epoch 15/1000\n",
            "113/140 [=======================>......] - ETA: 0s - loss: 1.4348 - accuracy: 0.5494\n",
            "Epoch 15: saving model to model/keypoint_classifier\\keypoint_classifier.keras\n",
            "140/140 [==============================] - 0s 1ms/step - loss: 1.4313 - accuracy: 0.5513 - val_loss: 0.8780 - val_accuracy: 0.7175\n",
            "Epoch 16/1000\n",
            "114/140 [=======================>......] - ETA: 0s - loss: 1.3818 - accuracy: 0.5608\n",
            "Epoch 16: saving model to model/keypoint_classifier\\keypoint_classifier.keras\n",
            "140/140 [==============================] - 0s 1ms/step - loss: 1.3799 - accuracy: 0.5642 - val_loss: 0.8558 - val_accuracy: 0.7247\n",
            "Epoch 17/1000\n",
            "113/140 [=======================>......] - ETA: 0s - loss: 1.3781 - accuracy: 0.5649\n",
            "Epoch 17: saving model to model/keypoint_classifier\\keypoint_classifier.keras\n",
            "140/140 [==============================] - 0s 1ms/step - loss: 1.3797 - accuracy: 0.5618 - val_loss: 0.8441 - val_accuracy: 0.7264\n",
            "Epoch 18/1000\n",
            "115/140 [=======================>......] - ETA: 0s - loss: 1.3618 - accuracy: 0.5676\n",
            "Epoch 18: saving model to model/keypoint_classifier\\keypoint_classifier.keras\n",
            "140/140 [==============================] - 0s 1ms/step - loss: 1.3641 - accuracy: 0.5674 - val_loss: 0.8334 - val_accuracy: 0.7294\n",
            "Epoch 19/1000\n",
            "115/140 [=======================>......] - ETA: 0s - loss: 1.3504 - accuracy: 0.5712\n",
            "Epoch 19: saving model to model/keypoint_classifier\\keypoint_classifier.keras\n",
            "140/140 [==============================] - 0s 1ms/step - loss: 1.3573 - accuracy: 0.5712 - val_loss: 0.8219 - val_accuracy: 0.7426\n",
            "Epoch 20/1000\n",
            "118/140 [========================>.....] - ETA: 0s - loss: 1.3405 - accuracy: 0.5816\n",
            "Epoch 20: saving model to model/keypoint_classifier\\keypoint_classifier.keras\n",
            "140/140 [==============================] - 0s 1ms/step - loss: 1.3394 - accuracy: 0.5816 - val_loss: 0.8110 - val_accuracy: 0.7522\n",
            "Epoch 21/1000\n",
            "114/140 [=======================>......] - ETA: 0s - loss: 1.3306 - accuracy: 0.5809\n",
            "Epoch 21: saving model to model/keypoint_classifier\\keypoint_classifier.keras\n",
            "140/140 [==============================] - 0s 1ms/step - loss: 1.3408 - accuracy: 0.5787 - val_loss: 0.8146 - val_accuracy: 0.7446\n",
            "Epoch 22/1000\n",
            "119/140 [========================>.....] - ETA: 0s - loss: 1.3370 - accuracy: 0.5731\n",
            "Epoch 22: saving model to model/keypoint_classifier\\keypoint_classifier.keras\n",
            "140/140 [==============================] - 0s 1ms/step - loss: 1.3341 - accuracy: 0.5740 - val_loss: 0.8006 - val_accuracy: 0.7502\n",
            "Epoch 23/1000\n",
            "112/140 [=======================>......] - ETA: 0s - loss: 1.3514 - accuracy: 0.5769\n",
            "Epoch 23: saving model to model/keypoint_classifier\\keypoint_classifier.keras\n",
            "140/140 [==============================] - 0s 1ms/step - loss: 1.3431 - accuracy: 0.5798 - val_loss: 0.8004 - val_accuracy: 0.7478\n",
            "Epoch 24/1000\n",
            "112/140 [=======================>......] - ETA: 0s - loss: 1.2976 - accuracy: 0.5865\n",
            "Epoch 24: saving model to model/keypoint_classifier\\keypoint_classifier.keras\n",
            "140/140 [==============================] - 0s 1ms/step - loss: 1.2979 - accuracy: 0.5869 - val_loss: 0.7911 - val_accuracy: 0.7535\n",
            "Epoch 25/1000\n",
            "110/140 [======================>.......] - ETA: 0s - loss: 1.2880 - accuracy: 0.5920\n",
            "Epoch 25: saving model to model/keypoint_classifier\\keypoint_classifier.keras\n",
            "140/140 [==============================] - 0s 1ms/step - loss: 1.2918 - accuracy: 0.5908 - val_loss: 0.7815 - val_accuracy: 0.7549\n",
            "Epoch 26/1000\n",
            "109/140 [======================>.......] - ETA: 0s - loss: 1.3002 - accuracy: 0.5872\n",
            "Epoch 26: saving model to model/keypoint_classifier\\keypoint_classifier.keras\n",
            "140/140 [==============================] - 0s 1ms/step - loss: 1.2972 - accuracy: 0.5892 - val_loss: 0.7686 - val_accuracy: 0.7633\n",
            "Epoch 27/1000\n",
            "109/140 [======================>.......] - ETA: 0s - loss: 1.2906 - accuracy: 0.5969\n",
            "Epoch 27: saving model to model/keypoint_classifier\\keypoint_classifier.keras\n",
            "140/140 [==============================] - 0s 1ms/step - loss: 1.2920 - accuracy: 0.5950 - val_loss: 0.7736 - val_accuracy: 0.7633\n",
            "Epoch 28/1000\n",
            "115/140 [=======================>......] - ETA: 0s - loss: 1.2988 - accuracy: 0.5914\n",
            "Epoch 28: saving model to model/keypoint_classifier\\keypoint_classifier.keras\n",
            "140/140 [==============================] - 0s 1ms/step - loss: 1.2942 - accuracy: 0.5937 - val_loss: 0.7639 - val_accuracy: 0.7615\n",
            "Epoch 29/1000\n",
            "109/140 [======================>.......] - ETA: 0s - loss: 1.2934 - accuracy: 0.5905\n",
            "Epoch 29: saving model to model/keypoint_classifier\\keypoint_classifier.keras\n",
            "140/140 [==============================] - 0s 1ms/step - loss: 1.2934 - accuracy: 0.5894 - val_loss: 0.7629 - val_accuracy: 0.7626\n",
            "Epoch 30/1000\n",
            "111/140 [======================>.......] - ETA: 0s - loss: 1.2710 - accuracy: 0.5955\n",
            "Epoch 30: saving model to model/keypoint_classifier\\keypoint_classifier.keras\n",
            "140/140 [==============================] - 0s 1ms/step - loss: 1.2693 - accuracy: 0.5983 - val_loss: 0.7521 - val_accuracy: 0.7628\n",
            "Epoch 31/1000\n",
            "112/140 [=======================>......] - ETA: 0s - loss: 1.2698 - accuracy: 0.5977\n",
            "Epoch 31: saving model to model/keypoint_classifier\\keypoint_classifier.keras\n",
            "140/140 [==============================] - 0s 1ms/step - loss: 1.2675 - accuracy: 0.5992 - val_loss: 0.7619 - val_accuracy: 0.7620\n",
            "Epoch 32/1000\n",
            "107/140 [=====================>........] - ETA: 0s - loss: 1.2560 - accuracy: 0.6048\n",
            "Epoch 32: saving model to model/keypoint_classifier\\keypoint_classifier.keras\n",
            "140/140 [==============================] - 0s 2ms/step - loss: 1.2575 - accuracy: 0.6028 - val_loss: 0.7488 - val_accuracy: 0.7746\n",
            "Epoch 33/1000\n",
            "133/140 [===========================>..] - ETA: 0s - loss: 1.2650 - accuracy: 0.5969\n",
            "Epoch 33: saving model to model/keypoint_classifier\\keypoint_classifier.keras\n",
            "140/140 [==============================] - 0s 2ms/step - loss: 1.2646 - accuracy: 0.5974 - val_loss: 0.7558 - val_accuracy: 0.7628\n",
            "Epoch 34/1000\n",
            " 92/140 [==================>...........] - ETA: 0s - loss: 1.2621 - accuracy: 0.6025\n",
            "Epoch 34: saving model to model/keypoint_classifier\\keypoint_classifier.keras\n",
            "140/140 [==============================] - 0s 2ms/step - loss: 1.2571 - accuracy: 0.6053 - val_loss: 0.7410 - val_accuracy: 0.7662\n",
            "Epoch 35/1000\n",
            " 92/140 [==================>...........] - ETA: 0s - loss: 1.2652 - accuracy: 0.5974\n",
            "Epoch 35: saving model to model/keypoint_classifier\\keypoint_classifier.keras\n",
            "140/140 [==============================] - 0s 2ms/step - loss: 1.2541 - accuracy: 0.6006 - val_loss: 0.7397 - val_accuracy: 0.7729\n",
            "Epoch 36/1000\n",
            "136/140 [============================>.] - ETA: 0s - loss: 1.2506 - accuracy: 0.6051\n",
            "Epoch 36: saving model to model/keypoint_classifier\\keypoint_classifier.keras\n",
            "140/140 [==============================] - 0s 2ms/step - loss: 1.2548 - accuracy: 0.6041 - val_loss: 0.7409 - val_accuracy: 0.7719\n",
            "Epoch 37/1000\n",
            "137/140 [============================>.] - ETA: 0s - loss: 1.2386 - accuracy: 0.6069\n",
            "Epoch 37: saving model to model/keypoint_classifier\\keypoint_classifier.keras\n",
            "140/140 [==============================] - 0s 2ms/step - loss: 1.2380 - accuracy: 0.6066 - val_loss: 0.7385 - val_accuracy: 0.7746\n",
            "Epoch 38/1000\n",
            "132/140 [===========================>..] - ETA: 0s - loss: 1.2308 - accuracy: 0.6051\n",
            "Epoch 38: saving model to model/keypoint_classifier\\keypoint_classifier.keras\n",
            "140/140 [==============================] - 0s 2ms/step - loss: 1.2284 - accuracy: 0.6057 - val_loss: 0.7243 - val_accuracy: 0.7677\n",
            "Epoch 39/1000\n",
            " 95/140 [===================>..........] - ETA: 0s - loss: 1.2329 - accuracy: 0.6053\n",
            "Epoch 39: saving model to model/keypoint_classifier\\keypoint_classifier.keras\n",
            "140/140 [==============================] - 0s 2ms/step - loss: 1.2459 - accuracy: 0.6035 - val_loss: 0.7421 - val_accuracy: 0.7643\n",
            "Epoch 40/1000\n",
            "136/140 [============================>.] - ETA: 0s - loss: 1.2378 - accuracy: 0.6106\n",
            "Epoch 40: saving model to model/keypoint_classifier\\keypoint_classifier.keras\n",
            "140/140 [==============================] - 0s 2ms/step - loss: 1.2353 - accuracy: 0.6109 - val_loss: 0.7313 - val_accuracy: 0.7674\n",
            "Epoch 41/1000\n",
            "134/140 [===========================>..] - ETA: 0s - loss: 1.2414 - accuracy: 0.6082\n",
            "Epoch 41: saving model to model/keypoint_classifier\\keypoint_classifier.keras\n",
            "140/140 [==============================] - 0s 2ms/step - loss: 1.2417 - accuracy: 0.6080 - val_loss: 0.7325 - val_accuracy: 0.7706\n",
            "Epoch 42/1000\n",
            "139/140 [============================>.] - ETA: 0s - loss: 1.2261 - accuracy: 0.6138\n",
            "Epoch 42: saving model to model/keypoint_classifier\\keypoint_classifier.keras\n",
            "140/140 [==============================] - 0s 2ms/step - loss: 1.2262 - accuracy: 0.6136 - val_loss: 0.7164 - val_accuracy: 0.7771\n",
            "Epoch 43/1000\n",
            "140/140 [==============================] - ETA: 0s - loss: 1.2314 - accuracy: 0.6078\n",
            "Epoch 43: saving model to model/keypoint_classifier\\keypoint_classifier.keras\n",
            "140/140 [==============================] - 0s 2ms/step - loss: 1.2314 - accuracy: 0.6078 - val_loss: 0.7218 - val_accuracy: 0.7763\n",
            "Epoch 44/1000\n",
            "131/140 [===========================>..] - ETA: 0s - loss: 1.2156 - accuracy: 0.6139\n",
            "Epoch 44: saving model to model/keypoint_classifier\\keypoint_classifier.keras\n",
            "140/140 [==============================] - 0s 2ms/step - loss: 1.2192 - accuracy: 0.6133 - val_loss: 0.7165 - val_accuracy: 0.7719\n",
            "Epoch 45/1000\n",
            "131/140 [===========================>..] - ETA: 0s - loss: 1.2277 - accuracy: 0.6135\n",
            "Epoch 45: saving model to model/keypoint_classifier\\keypoint_classifier.keras\n",
            "140/140 [==============================] - 0s 2ms/step - loss: 1.2297 - accuracy: 0.6125 - val_loss: 0.7189 - val_accuracy: 0.7773\n",
            "Epoch 46/1000\n",
            "133/140 [===========================>..] - ETA: 0s - loss: 1.2179 - accuracy: 0.6130\n",
            "Epoch 46: saving model to model/keypoint_classifier\\keypoint_classifier.keras\n",
            "140/140 [==============================] - 0s 2ms/step - loss: 1.2201 - accuracy: 0.6135 - val_loss: 0.7193 - val_accuracy: 0.7736\n",
            "Epoch 47/1000\n",
            "126/140 [==========================>...] - ETA: 0s - loss: 1.2117 - accuracy: 0.6161\n",
            "Epoch 47: saving model to model/keypoint_classifier\\keypoint_classifier.keras\n",
            "140/140 [==============================] - 0s 2ms/step - loss: 1.2119 - accuracy: 0.6154 - val_loss: 0.7173 - val_accuracy: 0.7674\n",
            "Epoch 48/1000\n",
            "130/140 [==========================>...] - ETA: 0s - loss: 1.2120 - accuracy: 0.6159\n",
            "Epoch 48: saving model to model/keypoint_classifier\\keypoint_classifier.keras\n",
            "140/140 [==============================] - 0s 2ms/step - loss: 1.2096 - accuracy: 0.6158 - val_loss: 0.7120 - val_accuracy: 0.7776\n",
            "Epoch 49/1000\n",
            "132/140 [===========================>..] - ETA: 0s - loss: 1.2095 - accuracy: 0.6172\n",
            "Epoch 49: saving model to model/keypoint_classifier\\keypoint_classifier.keras\n",
            "140/140 [==============================] - 0s 2ms/step - loss: 1.2092 - accuracy: 0.6165 - val_loss: 0.7132 - val_accuracy: 0.7744\n",
            "Epoch 50/1000\n",
            "133/140 [===========================>..] - ETA: 0s - loss: 1.2046 - accuracy: 0.6181\n",
            "Epoch 50: saving model to model/keypoint_classifier\\keypoint_classifier.keras\n",
            "140/140 [==============================] - 0s 2ms/step - loss: 1.2015 - accuracy: 0.6190 - val_loss: 0.7001 - val_accuracy: 0.7800\n",
            "Epoch 51/1000\n",
            "133/140 [===========================>..] - ETA: 0s - loss: 1.2059 - accuracy: 0.6185\n",
            "Epoch 51: saving model to model/keypoint_classifier\\keypoint_classifier.keras\n",
            "140/140 [==============================] - 0s 2ms/step - loss: 1.2022 - accuracy: 0.6192 - val_loss: 0.7060 - val_accuracy: 0.7808\n",
            "Epoch 52/1000\n",
            "132/140 [===========================>..] - ETA: 0s - loss: 1.2112 - accuracy: 0.6195\n",
            "Epoch 52: saving model to model/keypoint_classifier\\keypoint_classifier.keras\n",
            "140/140 [==============================] - 0s 2ms/step - loss: 1.2091 - accuracy: 0.6211 - val_loss: 0.7090 - val_accuracy: 0.7918\n",
            "Epoch 53/1000\n",
            "127/140 [==========================>...] - ETA: 0s - loss: 1.2189 - accuracy: 0.6131\n",
            "Epoch 53: saving model to model/keypoint_classifier\\keypoint_classifier.keras\n",
            "140/140 [==============================] - 0s 2ms/step - loss: 1.2158 - accuracy: 0.6141 - val_loss: 0.6982 - val_accuracy: 0.7788\n",
            "Epoch 54/1000\n",
            "133/140 [===========================>..] - ETA: 0s - loss: 1.1890 - accuracy: 0.6213\n",
            "Epoch 54: saving model to model/keypoint_classifier\\keypoint_classifier.keras\n",
            "140/140 [==============================] - 0s 2ms/step - loss: 1.1865 - accuracy: 0.6226 - val_loss: 0.6920 - val_accuracy: 0.7941\n",
            "Epoch 55/1000\n",
            "138/140 [============================>.] - ETA: 0s - loss: 1.1905 - accuracy: 0.6218\n",
            "Epoch 55: saving model to model/keypoint_classifier\\keypoint_classifier.keras\n",
            "140/140 [==============================] - 0s 2ms/step - loss: 1.1914 - accuracy: 0.6218 - val_loss: 0.7066 - val_accuracy: 0.7748\n",
            "Epoch 56/1000\n",
            "130/140 [==========================>...] - ETA: 0s - loss: 1.1935 - accuracy: 0.6243\n",
            "Epoch 56: saving model to model/keypoint_classifier\\keypoint_classifier.keras\n",
            "140/140 [==============================] - 0s 2ms/step - loss: 1.1889 - accuracy: 0.6251 - val_loss: 0.7090 - val_accuracy: 0.7834\n",
            "Epoch 57/1000\n",
            "120/140 [========================>.....] - ETA: 0s - loss: 1.1873 - accuracy: 0.6254\n",
            "Epoch 57: saving model to model/keypoint_classifier\\keypoint_classifier.keras\n",
            "140/140 [==============================] - 0s 2ms/step - loss: 1.1927 - accuracy: 0.6235 - val_loss: 0.6933 - val_accuracy: 0.7918\n",
            "Epoch 58/1000\n",
            "131/140 [===========================>..] - ETA: 0s - loss: 1.1851 - accuracy: 0.6187\n",
            "Epoch 58: saving model to model/keypoint_classifier\\keypoint_classifier.keras\n",
            "140/140 [==============================] - 0s 2ms/step - loss: 1.1880 - accuracy: 0.6193 - val_loss: 0.7015 - val_accuracy: 0.7968\n",
            "Epoch 59/1000\n",
            "131/140 [===========================>..] - ETA: 0s - loss: 1.1834 - accuracy: 0.6218\n",
            "Epoch 59: saving model to model/keypoint_classifier\\keypoint_classifier.keras\n",
            "140/140 [==============================] - 0s 2ms/step - loss: 1.1863 - accuracy: 0.6221 - val_loss: 0.6977 - val_accuracy: 0.7823\n",
            "Epoch 60/1000\n",
            "133/140 [===========================>..] - ETA: 0s - loss: 1.1913 - accuracy: 0.6252\n",
            "Epoch 60: saving model to model/keypoint_classifier\\keypoint_classifier.keras\n",
            "140/140 [==============================] - 0s 2ms/step - loss: 1.1873 - accuracy: 0.6260 - val_loss: 0.6977 - val_accuracy: 0.7861\n",
            "Epoch 61/1000\n",
            "120/140 [========================>.....] - ETA: 0s - loss: 1.1851 - accuracy: 0.6252\n",
            "Epoch 61: saving model to model/keypoint_classifier\\keypoint_classifier.keras\n",
            "140/140 [==============================] - 0s 2ms/step - loss: 1.1771 - accuracy: 0.6279 - val_loss: 0.6938 - val_accuracy: 0.7876\n",
            "Epoch 62/1000\n",
            "123/140 [=========================>....] - ETA: 0s - loss: 1.1839 - accuracy: 0.6286\n",
            "Epoch 62: saving model to model/keypoint_classifier\\keypoint_classifier.keras\n",
            "140/140 [==============================] - 0s 2ms/step - loss: 1.1833 - accuracy: 0.6279 - val_loss: 0.6945 - val_accuracy: 0.7862\n",
            "Epoch 63/1000\n",
            "134/140 [===========================>..] - ETA: 0s - loss: 1.1747 - accuracy: 0.6273\n",
            "Epoch 63: saving model to model/keypoint_classifier\\keypoint_classifier.keras\n",
            "140/140 [==============================] - 0s 2ms/step - loss: 1.1782 - accuracy: 0.6270 - val_loss: 0.6901 - val_accuracy: 0.7933\n",
            "Epoch 64/1000\n",
            "131/140 [===========================>..] - ETA: 0s - loss: 1.1820 - accuracy: 0.6279\n",
            "Epoch 64: saving model to model/keypoint_classifier\\keypoint_classifier.keras\n",
            "140/140 [==============================] - 0s 2ms/step - loss: 1.1765 - accuracy: 0.6285 - val_loss: 0.6891 - val_accuracy: 0.7877\n",
            "Epoch 65/1000\n",
            "135/140 [===========================>..] - ETA: 0s - loss: 1.1608 - accuracy: 0.6306\n",
            "Epoch 65: saving model to model/keypoint_classifier\\keypoint_classifier.keras\n",
            "140/140 [==============================] - 0s 2ms/step - loss: 1.1610 - accuracy: 0.6314 - val_loss: 0.6958 - val_accuracy: 0.7911\n",
            "Epoch 66/1000\n",
            "132/140 [===========================>..] - ETA: 0s - loss: 1.1696 - accuracy: 0.6289\n",
            "Epoch 66: saving model to model/keypoint_classifier\\keypoint_classifier.keras\n",
            "140/140 [==============================] - 0s 2ms/step - loss: 1.1741 - accuracy: 0.6283 - val_loss: 0.6974 - val_accuracy: 0.7889\n",
            "Epoch 67/1000\n",
            "128/140 [==========================>...] - ETA: 0s - loss: 1.1784 - accuracy: 0.6223\n",
            "Epoch 67: saving model to model/keypoint_classifier\\keypoint_classifier.keras\n",
            "140/140 [==============================] - 0s 2ms/step - loss: 1.1751 - accuracy: 0.6236 - val_loss: 0.6901 - val_accuracy: 0.7951\n",
            "Epoch 68/1000\n",
            "107/140 [=====================>........] - ETA: 0s - loss: 1.1687 - accuracy: 0.6264\n",
            "Epoch 68: saving model to model/keypoint_classifier\\keypoint_classifier.keras\n",
            "140/140 [==============================] - 0s 2ms/step - loss: 1.1684 - accuracy: 0.6260 - val_loss: 0.6909 - val_accuracy: 0.7990\n",
            "Epoch 69/1000\n",
            "125/140 [=========================>....] - ETA: 0s - loss: 1.1564 - accuracy: 0.6314\n",
            "Epoch 69: saving model to model/keypoint_classifier\\keypoint_classifier.keras\n",
            "140/140 [==============================] - 0s 2ms/step - loss: 1.1554 - accuracy: 0.6327 - val_loss: 0.6883 - val_accuracy: 0.7995\n",
            "Epoch 70/1000\n",
            " 97/140 [===================>..........] - ETA: 0s - loss: 1.1503 - accuracy: 0.6364\n",
            "Epoch 70: saving model to model/keypoint_classifier\\keypoint_classifier.keras\n",
            "140/140 [==============================] - 0s 2ms/step - loss: 1.1579 - accuracy: 0.6358 - val_loss: 0.6727 - val_accuracy: 0.7909\n",
            "Epoch 71/1000\n",
            " 99/140 [====================>.........] - ETA: 0s - loss: 1.1473 - accuracy: 0.6341\n",
            "Epoch 71: saving model to model/keypoint_classifier\\keypoint_classifier.keras\n",
            "140/140 [==============================] - 0s 2ms/step - loss: 1.1468 - accuracy: 0.6356 - val_loss: 0.6768 - val_accuracy: 0.7970\n",
            "Epoch 72/1000\n",
            "131/140 [===========================>..] - ETA: 0s - loss: 1.1591 - accuracy: 0.6339\n",
            "Epoch 72: saving model to model/keypoint_classifier\\keypoint_classifier.keras\n",
            "140/140 [==============================] - 0s 2ms/step - loss: 1.1598 - accuracy: 0.6333 - val_loss: 0.6878 - val_accuracy: 0.7884\n",
            "Epoch 73/1000\n",
            "123/140 [=========================>....] - ETA: 0s - loss: 1.1328 - accuracy: 0.6373\n",
            "Epoch 73: saving model to model/keypoint_classifier\\keypoint_classifier.keras\n",
            "140/140 [==============================] - 0s 2ms/step - loss: 1.1417 - accuracy: 0.6361 - val_loss: 0.6900 - val_accuracy: 0.7955\n",
            "Epoch 74/1000\n",
            "136/140 [============================>.] - ETA: 0s - loss: 1.1580 - accuracy: 0.6360\n",
            "Epoch 74: saving model to model/keypoint_classifier\\keypoint_classifier.keras\n",
            "140/140 [==============================] - 0s 2ms/step - loss: 1.1575 - accuracy: 0.6359 - val_loss: 0.6858 - val_accuracy: 0.7842\n",
            "Epoch 75/1000\n",
            "139/140 [============================>.] - ETA: 0s - loss: 1.1446 - accuracy: 0.6382\n",
            "Epoch 75: saving model to model/keypoint_classifier\\keypoint_classifier.keras\n",
            "140/140 [==============================] - 0s 2ms/step - loss: 1.1444 - accuracy: 0.6382 - val_loss: 0.6802 - val_accuracy: 0.7855\n",
            "Epoch 76/1000\n",
            " 97/140 [===================>..........] - ETA: 0s - loss: 1.1549 - accuracy: 0.6354\n",
            "Epoch 76: saving model to model/keypoint_classifier\\keypoint_classifier.keras\n",
            "140/140 [==============================] - 0s 2ms/step - loss: 1.1383 - accuracy: 0.6399 - val_loss: 0.6908 - val_accuracy: 0.7940\n",
            "Epoch 77/1000\n",
            "139/140 [============================>.] - ETA: 0s - loss: 1.1448 - accuracy: 0.6367\n",
            "Epoch 77: saving model to model/keypoint_classifier\\keypoint_classifier.keras\n",
            "140/140 [==============================] - 0s 2ms/step - loss: 1.1450 - accuracy: 0.6367 - val_loss: 0.6790 - val_accuracy: 0.8049\n",
            "Epoch 78/1000\n",
            "122/140 [=========================>....] - ETA: 0s - loss: 1.1335 - accuracy: 0.6410\n",
            "Epoch 78: saving model to model/keypoint_classifier\\keypoint_classifier.keras\n",
            "140/140 [==============================] - 0s 2ms/step - loss: 1.1334 - accuracy: 0.6402 - val_loss: 0.6721 - val_accuracy: 0.7955\n",
            "Epoch 79/1000\n",
            "132/140 [===========================>..] - ETA: 0s - loss: 1.1404 - accuracy: 0.6370\n",
            "Epoch 79: saving model to model/keypoint_classifier\\keypoint_classifier.keras\n",
            "140/140 [==============================] - 0s 2ms/step - loss: 1.1403 - accuracy: 0.6359 - val_loss: 0.6792 - val_accuracy: 0.8002\n",
            "Epoch 80/1000\n",
            "114/140 [=======================>......] - ETA: 0s - loss: 1.1465 - accuracy: 0.6391\n",
            "Epoch 80: saving model to model/keypoint_classifier\\keypoint_classifier.keras\n",
            "140/140 [==============================] - 0s 2ms/step - loss: 1.1403 - accuracy: 0.6416 - val_loss: 0.6851 - val_accuracy: 0.7857\n",
            "Epoch 81/1000\n",
            "126/140 [==========================>...] - ETA: 0s - loss: 1.1374 - accuracy: 0.6433\n",
            "Epoch 81: saving model to model/keypoint_classifier\\keypoint_classifier.keras\n",
            "140/140 [==============================] - 0s 2ms/step - loss: 1.1415 - accuracy: 0.6427 - val_loss: 0.6743 - val_accuracy: 0.8095\n",
            "Epoch 82/1000\n",
            "121/140 [========================>.....] - ETA: 0s - loss: 1.1277 - accuracy: 0.6437\n",
            "Epoch 82: saving model to model/keypoint_classifier\\keypoint_classifier.keras\n",
            "140/140 [==============================] - 0s 2ms/step - loss: 1.1270 - accuracy: 0.6426 - val_loss: 0.6761 - val_accuracy: 0.7935\n",
            "Epoch 83/1000\n",
            "118/140 [========================>.....] - ETA: 0s - loss: 1.1321 - accuracy: 0.6440\n",
            "Epoch 83: saving model to model/keypoint_classifier\\keypoint_classifier.keras\n",
            "140/140 [==============================] - 0s 2ms/step - loss: 1.1352 - accuracy: 0.6443 - val_loss: 0.6813 - val_accuracy: 0.8015\n",
            "Epoch 84/1000\n",
            "133/140 [===========================>..] - ETA: 0s - loss: 1.1275 - accuracy: 0.6427\n",
            "Epoch 84: saving model to model/keypoint_classifier\\keypoint_classifier.keras\n",
            "140/140 [==============================] - 0s 2ms/step - loss: 1.1235 - accuracy: 0.6439 - val_loss: 0.6520 - val_accuracy: 0.8004\n",
            "Epoch 85/1000\n",
            "108/140 [======================>.......] - ETA: 0s - loss: 1.1157 - accuracy: 0.6440\n",
            "Epoch 85: saving model to model/keypoint_classifier\\keypoint_classifier.keras\n",
            "140/140 [==============================] - 0s 2ms/step - loss: 1.1276 - accuracy: 0.6429 - val_loss: 0.6858 - val_accuracy: 0.7957\n",
            "Epoch 86/1000\n",
            "126/140 [==========================>...] - ETA: 0s - loss: 1.1301 - accuracy: 0.6440\n",
            "Epoch 86: saving model to model/keypoint_classifier\\keypoint_classifier.keras\n",
            "140/140 [==============================] - 0s 2ms/step - loss: 1.1242 - accuracy: 0.6463 - val_loss: 0.6797 - val_accuracy: 0.7926\n",
            "Epoch 87/1000\n",
            "121/140 [========================>.....] - ETA: 0s - loss: 1.1352 - accuracy: 0.6409\n",
            "Epoch 87: saving model to model/keypoint_classifier\\keypoint_classifier.keras\n",
            "140/140 [==============================] - 0s 2ms/step - loss: 1.1381 - accuracy: 0.6390 - val_loss: 0.6749 - val_accuracy: 0.7999\n",
            "Epoch 88/1000\n",
            "114/140 [=======================>......] - ETA: 0s - loss: 1.1183 - accuracy: 0.6480\n",
            "Epoch 88: saving model to model/keypoint_classifier\\keypoint_classifier.keras\n",
            "140/140 [==============================] - 0s 2ms/step - loss: 1.1173 - accuracy: 0.6495 - val_loss: 0.6797 - val_accuracy: 0.7965\n",
            "Epoch 89/1000\n",
            "133/140 [===========================>..] - ETA: 0s - loss: 1.1018 - accuracy: 0.6507\n",
            "Epoch 89: saving model to model/keypoint_classifier\\keypoint_classifier.keras\n",
            "140/140 [==============================] - 0s 2ms/step - loss: 1.1058 - accuracy: 0.6498 - val_loss: 0.6723 - val_accuracy: 0.7983\n",
            "Epoch 90/1000\n",
            "133/140 [===========================>..] - ETA: 0s - loss: 1.1110 - accuracy: 0.6479\n",
            "Epoch 90: saving model to model/keypoint_classifier\\keypoint_classifier.keras\n",
            "140/140 [==============================] - 0s 2ms/step - loss: 1.1124 - accuracy: 0.6471 - val_loss: 0.6771 - val_accuracy: 0.8014\n",
            "Epoch 91/1000\n",
            "135/140 [===========================>..] - ETA: 0s - loss: 1.1223 - accuracy: 0.6480\n",
            "Epoch 91: saving model to model/keypoint_classifier\\keypoint_classifier.keras\n",
            "140/140 [==============================] - 0s 2ms/step - loss: 1.1182 - accuracy: 0.6491 - val_loss: 0.6575 - val_accuracy: 0.7953\n",
            "Epoch 92/1000\n",
            " 92/140 [==================>...........] - ETA: 0s - loss: 1.1009 - accuracy: 0.6444\n",
            "Epoch 92: saving model to model/keypoint_classifier\\keypoint_classifier.keras\n",
            "140/140 [==============================] - 0s 2ms/step - loss: 1.1068 - accuracy: 0.6477 - val_loss: 0.6819 - val_accuracy: 0.7914\n",
            "Epoch 93/1000\n",
            " 95/140 [===================>..........] - ETA: 0s - loss: 1.1092 - accuracy: 0.6506\n",
            "Epoch 93: saving model to model/keypoint_classifier\\keypoint_classifier.keras\n",
            "140/140 [==============================] - 0s 2ms/step - loss: 1.1081 - accuracy: 0.6495 - val_loss: 0.6761 - val_accuracy: 0.8154\n",
            "Epoch 94/1000\n",
            "127/140 [==========================>...] - ETA: 0s - loss: 1.1125 - accuracy: 0.6502\n",
            "Epoch 94: saving model to model/keypoint_classifier\\keypoint_classifier.keras\n",
            "140/140 [==============================] - 0s 2ms/step - loss: 1.1127 - accuracy: 0.6488 - val_loss: 0.6672 - val_accuracy: 0.7957\n",
            "Epoch 95/1000\n",
            "131/140 [===========================>..] - ETA: 0s - loss: 1.1146 - accuracy: 0.6514\n",
            "Epoch 95: saving model to model/keypoint_classifier\\keypoint_classifier.keras\n",
            "140/140 [==============================] - 0s 2ms/step - loss: 1.1191 - accuracy: 0.6506 - val_loss: 0.6857 - val_accuracy: 0.8015\n",
            "Epoch 96/1000\n",
            "136/140 [============================>.] - ETA: 0s - loss: 1.1072 - accuracy: 0.6503\n",
            "Epoch 96: saving model to model/keypoint_classifier\\keypoint_classifier.keras\n",
            "140/140 [==============================] - 0s 2ms/step - loss: 1.1050 - accuracy: 0.6508 - val_loss: 0.6761 - val_accuracy: 0.8014\n",
            "Epoch 97/1000\n",
            "130/140 [==========================>...] - ETA: 0s - loss: 1.1063 - accuracy: 0.6488\n",
            "Epoch 97: saving model to model/keypoint_classifier\\keypoint_classifier.keras\n",
            "140/140 [==============================] - 0s 2ms/step - loss: 1.1067 - accuracy: 0.6485 - val_loss: 0.6910 - val_accuracy: 0.7985\n",
            "Epoch 98/1000\n",
            "132/140 [===========================>..] - ETA: 0s - loss: 1.1159 - accuracy: 0.6483\n",
            "Epoch 98: saving model to model/keypoint_classifier\\keypoint_classifier.keras\n",
            "140/140 [==============================] - 0s 2ms/step - loss: 1.1127 - accuracy: 0.6490 - val_loss: 0.6886 - val_accuracy: 0.7997\n",
            "Epoch 99/1000\n",
            "124/140 [=========================>....] - ETA: 0s - loss: 1.1013 - accuracy: 0.6520\n",
            "Epoch 99: saving model to model/keypoint_classifier\\keypoint_classifier.keras\n",
            "140/140 [==============================] - 0s 2ms/step - loss: 1.1023 - accuracy: 0.6526 - val_loss: 0.6677 - val_accuracy: 0.8014\n",
            "Epoch 100/1000\n",
            "133/140 [===========================>..] - ETA: 0s - loss: 1.1030 - accuracy: 0.6531\n",
            "Epoch 100: saving model to model/keypoint_classifier\\keypoint_classifier.keras\n",
            "140/140 [==============================] - 0s 2ms/step - loss: 1.0996 - accuracy: 0.6537 - val_loss: 0.7001 - val_accuracy: 0.7992\n",
            "Epoch 101/1000\n",
            "134/140 [===========================>..] - ETA: 0s - loss: 1.1018 - accuracy: 0.6528\n",
            "Epoch 101: saving model to model/keypoint_classifier\\keypoint_classifier.keras\n",
            "140/140 [==============================] - 0s 2ms/step - loss: 1.1039 - accuracy: 0.6524 - val_loss: 0.6755 - val_accuracy: 0.8041\n",
            "Epoch 102/1000\n",
            "127/140 [==========================>...] - ETA: 0s - loss: 1.0908 - accuracy: 0.6579\n",
            "Epoch 102: saving model to model/keypoint_classifier\\keypoint_classifier.keras\n",
            "140/140 [==============================] - 0s 2ms/step - loss: 1.0929 - accuracy: 0.6567 - val_loss: 0.6710 - val_accuracy: 0.7983\n",
            "Epoch 103/1000\n",
            "122/140 [=========================>....] - ETA: 0s - loss: 1.0966 - accuracy: 0.6559\n",
            "Epoch 103: saving model to model/keypoint_classifier\\keypoint_classifier.keras\n",
            "140/140 [==============================] - 0s 2ms/step - loss: 1.0903 - accuracy: 0.6592 - val_loss: 0.6616 - val_accuracy: 0.8063\n",
            "Epoch 104/1000\n",
            "129/140 [==========================>...] - ETA: 0s - loss: 1.0975 - accuracy: 0.6583\n",
            "Epoch 104: saving model to model/keypoint_classifier\\keypoint_classifier.keras\n",
            "140/140 [==============================] - 0s 2ms/step - loss: 1.0936 - accuracy: 0.6589 - val_loss: 0.6778 - val_accuracy: 0.8073\n",
            "Epoch 104: early stopping\n"
          ]
        },
        {
          "data": {
            "text/plain": [
              "<keras.src.callbacks.History at 0x2a96debeb50>"
            ]
          },
          "execution_count": 66,
          "metadata": {},
          "output_type": "execute_result"
        }
      ],
      "source": [
        "model.fit(\n",
        "    X_train,\n",
        "    y_train,\n",
        "    epochs=1000,\n",
        "    batch_size=128,\n",
        "    validation_data=(X_test, y_test),\n",
        "    callbacks=[cp_callback, es_callback]\n",
        ")"
      ]
    },
    {
      "cell_type": "code",
      "execution_count": 67,
      "metadata": {
        "colab": {
          "base_uri": "https://localhost:8080/"
        },
        "id": "pxvb2Y299hE3",
        "outputId": "59eb3185-2e37-4b9e-bc9d-ab1b8ac29b7f"
      },
      "outputs": [
        {
          "name": "stdout",
          "output_type": "stream",
          "text": [
            "47/47 [==============================] - 0s 1ms/step - loss: 0.6778 - accuracy: 0.8073\n"
          ]
        }
      ],
      "source": [
        "# Model evaluation\n",
        "val_loss, val_acc = model.evaluate(X_test, y_test, batch_size=128)"
      ]
    },
    {
      "cell_type": "code",
      "execution_count": 68,
      "metadata": {
        "id": "RBkmDeUW9hE4"
      },
      "outputs": [],
      "source": [
        "# Loading the saved model\n",
        "model = tf.keras.models.load_model(model_save_path)"
      ]
    },
    {
      "cell_type": "code",
      "execution_count": 69,
      "metadata": {
        "colab": {
          "base_uri": "https://localhost:8080/"
        },
        "id": "tFz9Tb0I9hE4",
        "outputId": "1c3b3528-54ae-4ee2-ab04-77429211cbef"
      },
      "outputs": [
        {
          "name": "stdout",
          "output_type": "stream",
          "text": [
            "1/1 [==============================] - 0s 54ms/step\n",
            "[5.7105756e-01 4.4482886e-06 7.1514951e-06 6.7189007e-06 9.3664676e-03\n",
            " 3.1825269e-03 1.2342060e-03 2.0529859e-04 3.2259615e-03 1.0610319e-03\n",
            " 4.5364957e-02 5.2400655e-03 7.6694578e-02 1.0893849e-02 7.2159839e-04\n",
            " 3.6881545e-06 1.0284173e-06 3.8060804e-03 8.2497746e-02 1.5755855e-02\n",
            " 6.0027922e-03 1.1259903e-04 3.8554776e-06 1.3670096e-01 2.5541680e-02\n",
            " 1.3074004e-03]\n",
            "0\n"
          ]
        }
      ],
      "source": [
        "# Inference test\n",
        "predict_result = model.predict(np.array([X_test[0]]))\n",
        "print(np.squeeze(predict_result))\n",
        "print(np.argmax(np.squeeze(predict_result)))"
      ]
    },
    {
      "cell_type": "markdown",
      "metadata": {
        "id": "S3U4yNWx9hE4"
      },
      "source": [
        "# Confusion matrix"
      ]
    },
    {
      "cell_type": "code",
      "execution_count": 70,
      "metadata": {
        "colab": {
          "base_uri": "https://localhost:8080/",
          "height": 582
        },
        "id": "AP1V6SCk9hE5",
        "outputId": "08e41a80-7a4a-4619-8125-ecc371368d19"
      },
      "outputs": [
        {
          "name": "stdout",
          "output_type": "stream",
          "text": [
            "186/186 [==============================] - 0s 823us/step\n"
          ]
        },
        {
          "data": {
            "image/png": "[encoded data removed]",
            "text/plain": [
              "<Figure size 700x600 with 2 Axes>"
            ]
          },
          "metadata": {},
          "output_type": "display_data"
        },
        {
          "name": "stdout",
          "output_type": "stream",
          "text": [
            "Classification Report\n",
            "              precision    recall  f1-score   support\n",
            "\n",
            "           0       0.72      0.98      0.83       569\n",
            "           1       0.96      1.00      0.98       299\n",
            "           2       1.00      0.12      0.22        24\n",
            "           3       0.71      0.92      0.81        65\n",
            "           4       0.72      0.95      0.82       456\n",
            "           5       0.96      0.87      0.91       164\n",
            "           6       0.92      0.99      0.95       563\n",
            "           7       0.98      0.93      0.95       226\n",
            "           8       0.92      0.84      0.88       183\n",
            "           9       0.83      0.98      0.90       253\n",
            "          10       0.76      0.84      0.80       444\n",
            "          11       0.82      0.93      0.87       529\n",
            "          12       1.00      0.08      0.15        97\n",
            "          13       0.73      0.81      0.77        83\n",
            "          14       1.00      0.21      0.34        29\n",
            "          15       0.64      0.21      0.31        34\n",
            "          16       0.73      0.91      0.81        53\n",
            "          17       0.15      0.02      0.03       167\n",
            "          18       0.87      0.26      0.41       182\n",
            "          19       0.25      0.01      0.02       175\n",
            "          20       0.43      0.70      0.53       204\n",
            "          21       0.61      0.50      0.55       197\n",
            "          22       0.97      0.95      0.96       146\n",
            "          23       0.83      0.55      0.66       118\n",
            "          24       1.00      0.91      0.95       387\n",
            "          25       0.91      0.98      0.95       289\n",
            "\n",
            "    accuracy                           0.81      5936\n",
            "   macro avg       0.79      0.67      0.67      5936\n",
            "weighted avg       0.79      0.81      0.77      5936\n",
            "\n"
          ]
        }
      ],
      "source": [
        "import pandas as pd\n",
        "import seaborn as sns\n",
        "import matplotlib.pyplot as plt\n",
        "from sklearn.metrics import confusion_matrix, classification_report\n",
        "\n",
        "def print_confusion_matrix(y_true, y_pred, report=True):\n",
        "    labels = sorted(list(set(y_true)))\n",
        "    cmx_data = confusion_matrix(y_true, y_pred, labels=labels)\n",
        "    \n",
        "    df_cmx = pd.DataFrame(cmx_data, index=labels, columns=labels)\n",
        " \n",
        "    fig, ax = plt.subplots(figsize=(7, 6))\n",
        "    sns.heatmap(df_cmx, annot=True, fmt='g' ,square=False)\n",
        "    ax.set_ylim(len(set(y_true)), 0)\n",
        "    plt.show()\n",
        "    \n",
        "    if report:\n",
        "        print('Classification Report')\n",
        "        print(classification_report(y_test, y_pred))\n",
        "\n",
        "Y_pred = model.predict(X_test)\n",
        "y_pred = np.argmax(Y_pred, axis=1)\n",
        "\n",
        "print_confusion_matrix(y_test, y_pred)"
      ]
    },
    {
      "cell_type": "markdown",
      "metadata": {
        "id": "FNP6aqzc9hE5"
      },
      "source": [
        "# Convert to model for Tensorflow-Lite"
      ]
    },
    {
      "cell_type": "code",
      "execution_count": 71,
      "metadata": {
        "id": "ODjnYyld9hE6"
      },
      "outputs": [],
      "source": [
        "# Save as a model dedicated to inference\n",
        "model.save(model_save_path)"
      ]
    },
    {
      "cell_type": "code",
      "execution_count": 72,
      "metadata": {
        "colab": {
          "base_uri": "https://localhost:8080/"
        },
        "id": "zRfuK8Y59hE6",
        "outputId": "a4ca585c-b5d5-4244-8291-8674063209bb"
      },
      "outputs": [
        {
          "name": "stdout",
          "output_type": "stream",
          "text": [
            "INFO:tensorflow:Assets written to: C:\\Users\\asusg\\AppData\\Local\\Temp\\tmpf54ks3j4\\assets\n"
          ]
        },
        {
          "name": "stderr",
          "output_type": "stream",
          "text": [
            "INFO:tensorflow:Assets written to: C:\\Users\\asusg\\AppData\\Local\\Temp\\tmpf54ks3j4\\assets\n"
          ]
        },
        {
          "data": {
            "text/plain": [
              "7564"
            ]
          },
          "execution_count": 72,
          "metadata": {},
          "output_type": "execute_result"
        }
      ],
      "source": [
        "# Transform model (quantization)\n",
        "\n",
        "converter = tf.lite.TFLiteConverter.from_keras_model(model)\n",
        "converter.optimizations = [tf.lite.Optimize.DEFAULT]\n",
        "tflite_quantized_model = converter.convert()\n",
        "\n",
        "open(tflite_save_path, 'wb').write(tflite_quantized_model)"
      ]
    },
    {
      "cell_type": "markdown",
      "metadata": {
        "id": "CHBPBXdx9hE6"
      },
      "source": [
        "# Inference test"
      ]
    },
    {
      "cell_type": "code",
      "execution_count": 73,
      "metadata": {
        "id": "mGAzLocO9hE7"
      },
      "outputs": [],
      "source": [
        "interpreter = tf.lite.Interpreter(model_path=tflite_save_path)\n",
        "interpreter.allocate_tensors()"
      ]
    },
    {
      "cell_type": "code",
      "execution_count": 74,
      "metadata": {
        "id": "oQuDK8YS9hE7"
      },
      "outputs": [],
      "source": [
        "# Get I / O tensor\n",
        "input_details = interpreter.get_input_details()\n",
        "output_details = interpreter.get_output_details()"
      ]
    },
    {
      "cell_type": "code",
      "execution_count": 75,
      "metadata": {
        "id": "2_ixAf_l9hE7"
      },
      "outputs": [],
      "source": [
        "interpreter.set_tensor(input_details[0]['index'], np.array([X_test[0]]))"
      ]
    },
    {
      "cell_type": "code",
      "execution_count": 76,
      "metadata": {
        "colab": {
          "base_uri": "https://localhost:8080/"
        },
        "id": "s4FoAnuc9hE7",
        "outputId": "91f18257-8d8b-4ef3-c558-e9b5f94fabbf",
        "scrolled": true
      },
      "outputs": [
        {
          "name": "stdout",
          "output_type": "stream",
          "text": [
            "CPU times: total: 0 ns\n",
            "Wall time: 4.54 ms\n"
          ]
        }
      ],
      "source": [
        "%%time\n",
        "# Inference implementation\n",
        "interpreter.invoke()\n",
        "tflite_results = interpreter.get_tensor(output_details[0]['index'])"
      ]
    },
    {
      "cell_type": "code",
      "execution_count": 77,
      "metadata": {
        "colab": {
          "base_uri": "https://localhost:8080/"
        },
        "id": "vONjp19J9hE8",
        "outputId": "77205e24-fd00-42c4-f7b6-e06e527c2cba"
      },
      "outputs": [
        {
          "name": "stdout",
          "output_type": "stream",
          "text": [
            "[5.7105774e-01 4.4482731e-06 7.1514833e-06 6.7188898e-06 9.3664574e-03\n",
            " 3.1825248e-03 1.2342058e-03 2.0529845e-04 3.2259594e-03 1.0610312e-03\n",
            " 4.5364957e-02 5.2400497e-03 7.6694548e-02 1.0893834e-02 7.2159822e-04\n",
            " 3.6881484e-06 1.0284136e-06 3.8060779e-03 8.2497761e-02 1.5755849e-02\n",
            " 6.0027852e-03 1.1259864e-04 3.8554572e-06 1.3670087e-01 2.5541682e-02\n",
            " 1.3073976e-03]\n",
            "0\n"
          ]
        }
      ],
      "source": [
        "print(np.squeeze(tflite_results))\n",
        "print(np.argmax(np.squeeze(tflite_results)))"
      ]
    }
  ],
  "metadata": {
    "accelerator": "GPU",
    "colab": {
      "collapsed_sections": [],
      "name": "keypoint_classification_EN.ipynb",
      "provenance": [],
      "toc_visible": true
    },
    "kernelspec": {
      "display_name": "Python 3",
      "language": "python",
      "name": "python3"
    },
    "language_info": {
      "codemirror_mode": {
        "name": "ipython",
        "version": 3
      },
      "file_extension": ".py",
      "mimetype": "text/x-python",
      "name": "python",
      "nbconvert_exporter": "python",
      "pygments_lexer": "ipython3",
      "version": "3.11.9"
    }
  },
  "nbformat": 4,
  "nbformat_minor": 0
}
