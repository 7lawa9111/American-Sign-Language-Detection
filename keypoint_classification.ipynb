{
  "cells": [
    {
      "cell_type": "code",
      "execution_count": 34,
      "metadata": {
        "id": "igMyGnjE9hEp"
      },
      "outputs": [],
      "source": [
        "import csv\n",
        "\n",
        "import numpy as np\n",
        "import tensorflow as tf\n",
        "from sklearn.model_selection import train_test_split\n",
        "\n",
        "RANDOM_SEED = 42"
      ]
    },
    {
      "cell_type": "markdown",
      "metadata": {
        "id": "t2HDvhIu9hEr"
      },
      "source": [
        "# Specify each path"
      ]
    },
    {
      "cell_type": "code",
      "execution_count": 35,
      "metadata": {
        "id": "9NvZP2Zn9hEy"
      },
      "outputs": [],
      "source": [
        "dataset = 'model/keypoint_classifier/keypoint.csv'\n",
        "model_save_path = 'model/keypoint_classifier/keypoint_classifier.keras'\n",
        "tflite_save_path = 'model/keypoint_classifier/keypoint_classifier.tflite'"
      ]
    },
    {
      "cell_type": "markdown",
      "metadata": {
        "id": "s5oMH7x19hEz"
      },
      "source": [
        "# Set number of classes"
      ]
    },
    {
      "cell_type": "code",
      "execution_count": 36,
      "metadata": {
        "id": "du4kodXL9hEz"
      },
      "outputs": [],
      "source": [
        "NUM_CLASSES = 26"
      ]
    },
    {
      "cell_type": "markdown",
      "metadata": {
        "id": "XjnL0uso9hEz"
      },
      "source": [
        "# Dataset reading"
      ]
    },
    {
      "cell_type": "code",
      "execution_count": 37,
      "metadata": {
        "id": "QT5ZqtEz9hE0"
      },
      "outputs": [],
      "source": [
        "X_dataset = np.loadtxt(dataset, delimiter=',', dtype='float32', usecols=list(range(1, (21 * 2) + 1)))"
      ]
    },
    {
      "cell_type": "code",
      "execution_count": 38,
      "metadata": {
        "id": "QmoKFsp49hE0"
      },
      "outputs": [],
      "source": [
        "y_dataset = np.loadtxt(dataset, delimiter=',', dtype='int32', usecols=(0))"
      ]
    },
    {
      "cell_type": "code",
      "execution_count": 39,
      "metadata": {
        "id": "xQU7JTZ_9hE0"
      },
      "outputs": [],
      "source": [
        "X_train, X_test, y_train, y_test = train_test_split(X_dataset, y_dataset, train_size=0.75, random_state=RANDOM_SEED)"
      ]
    },
    {
      "cell_type": "markdown",
      "metadata": {
        "id": "mxK_lETT9hE0"
      },
      "source": [
        "# Model building"
      ]
    },
    {
      "cell_type": "code",
      "execution_count": 40,
      "metadata": {
        "id": "vHBmUf1t9hE1"
      },
      "outputs": [],
      "source": [
        "model = tf.keras.models.Sequential([\n",
        "    tf.keras.layers.Input((21 * 2, )),\n",
        "    tf.keras.layers.Dropout(0.2),\n",
        "    tf.keras.layers.Dense(20, activation='relu'),\n",
        "    tf.keras.layers.Dropout(0.4),\n",
        "    tf.keras.layers.Dense(10, activation='relu'),\n",
        "    tf.keras.layers.Dense(NUM_CLASSES, activation='softmax')\n",
        "])"
      ]
    },
    {
      "cell_type": "code",
      "execution_count": 41,
      "metadata": {
        "colab": {
          "base_uri": "https://localhost:8080/"
        },
        "id": "ypqky9tc9hE1",
        "outputId": "5db082bb-30e3-4110-bf63-a1ee777ecd46"
      },
      "outputs": [
        {
          "name": "stdout",
          "output_type": "stream",
          "text": [
            "Model: \"sequential_2\"\n",
            "_________________________________________________________________\n",
            " Layer (type)                Output Shape              Param #   \n",
            "=================================================================\n",
            " dropout_4 (Dropout)         (None, 42)                0         \n",
            "                                                                 \n",
            " dense_6 (Dense)             (None, 20)                860       \n",
            "                                                                 \n",
            " dropout_5 (Dropout)         (None, 20)                0         \n",
            "                                                                 \n",
            " dense_7 (Dense)             (None, 10)                210       \n",
            "                                                                 \n",
            " dense_8 (Dense)             (None, 26)                286       \n",
            "                                                                 \n",
            "=================================================================\n",
            "Total params: 1356 (5.30 KB)\n",
            "Trainable params: 1356 (5.30 KB)\n",
            "Non-trainable params: 0 (0.00 Byte)\n",
            "_________________________________________________________________\n"
          ]
        }
      ],
      "source": [
        "model.summary()  # tf.keras.utils.plot_model(model, show_shapes=True)"
      ]
    },
    {
      "cell_type": "code",
      "execution_count": 42,
      "metadata": {
        "id": "MbMjOflQ9hE1"
      },
      "outputs": [],
      "source": [
        "# Model checkpoint callback\n",
        "cp_callback = tf.keras.callbacks.ModelCheckpoint(\n",
        "    model_save_path, verbose=1, save_weights_only=False)\n",
        "# Callback for early stopping\n",
        "es_callback = tf.keras.callbacks.EarlyStopping(patience=20, verbose=1)"
      ]
    },
    {
      "cell_type": "code",
      "execution_count": 43,
      "metadata": {
        "id": "c3Dac0M_9hE2"
      },
      "outputs": [],
      "source": [
        "# Model compilation\n",
        "model.compile(\n",
        "    optimizer='adam',\n",
        "    loss='sparse_categorical_crossentropy',\n",
        "    metrics=['accuracy']\n",
        ")"
      ]
    },
    {
      "cell_type": "markdown",
      "metadata": {
        "id": "7XI0j1Iu9hE2"
      },
      "source": [
        "# Model training"
      ]
    },
    {
      "cell_type": "code",
      "execution_count": 44,
      "metadata": {
        "colab": {
          "base_uri": "https://localhost:8080/"
        },
        "id": "WirBl-JE9hE3",
        "outputId": "71b30ca2-8294-4d9d-8aa2-800d90d399de",
        "scrolled": true
      },
      "outputs": [
        {
          "name": "stdout",
          "output_type": "stream",
          "text": [
            "Epoch 1/5000\n",
            "49/66 [=====================>........] - ETA: 0s - loss: 3.2578 - accuracy: 0.0555 \n",
            "Epoch 1: saving model to model/keypoint_classifier\\keypoint_classifier.keras\n",
            "66/66 [==============================] - 0s 3ms/step - loss: 3.2476 - accuracy: 0.0586 - val_loss: 3.1962 - val_accuracy: 0.0895\n",
            "Epoch 2/5000\n",
            "51/66 [======================>.......] - ETA: 0s - loss: 3.1779 - accuracy: 0.0873\n",
            "Epoch 2: saving model to model/keypoint_classifier\\keypoint_classifier.keras\n",
            "66/66 [==============================] - 0s 2ms/step - loss: 3.1674 - accuracy: 0.0894 - val_loss: 3.0881 - val_accuracy: 0.1281\n",
            "Epoch 3/5000\n",
            "55/66 [========================>.....] - ETA: 0s - loss: 3.0739 - accuracy: 0.1111\n",
            "Epoch 3: saving model to model/keypoint_classifier\\keypoint_classifier.keras\n",
            "66/66 [==============================] - 0s 2ms/step - loss: 3.0670 - accuracy: 0.1104 - val_loss: 2.9394 - val_accuracy: 0.1339\n",
            "Epoch 4/5000\n",
            "57/66 [========================>.....] - ETA: 0s - loss: 2.9435 - accuracy: 0.1399\n",
            "Epoch 4: saving model to model/keypoint_classifier\\keypoint_classifier.keras\n",
            "66/66 [==============================] - 0s 2ms/step - loss: 2.9371 - accuracy: 0.1418 - val_loss: 2.7655 - val_accuracy: 0.1897\n",
            "Epoch 5/5000\n",
            "54/66 [=======================>......] - ETA: 0s - loss: 2.8335 - accuracy: 0.1691\n",
            "Epoch 5: saving model to model/keypoint_classifier\\keypoint_classifier.keras\n",
            "66/66 [==============================] - 0s 2ms/step - loss: 2.8262 - accuracy: 0.1724 - val_loss: 2.6074 - val_accuracy: 0.2620\n",
            "Epoch 6/5000\n",
            "58/66 [=========================>....] - ETA: 0s - loss: 2.7190 - accuracy: 0.1999\n",
            "Epoch 6: saving model to model/keypoint_classifier\\keypoint_classifier.keras\n",
            "66/66 [==============================] - 0s 2ms/step - loss: 2.7103 - accuracy: 0.2005 - val_loss: 2.4620 - val_accuracy: 0.3132\n",
            "Epoch 7/5000\n",
            "55/66 [========================>.....] - ETA: 0s - loss: 2.6513 - accuracy: 0.2111\n",
            "Epoch 7: saving model to model/keypoint_classifier\\keypoint_classifier.keras\n",
            "66/66 [==============================] - 0s 2ms/step - loss: 2.6372 - accuracy: 0.2126 - val_loss: 2.3423 - val_accuracy: 0.3450\n",
            "Epoch 8/5000\n",
            "56/66 [========================>.....] - ETA: 0s - loss: 2.5514 - accuracy: 0.2313\n",
            "Epoch 8: saving model to model/keypoint_classifier\\keypoint_classifier.keras\n",
            "66/66 [==============================] - 0s 2ms/step - loss: 2.5563 - accuracy: 0.2313 - val_loss: 2.2403 - val_accuracy: 0.4105\n",
            "Epoch 9/5000\n",
            "55/66 [========================>.....] - ETA: 0s - loss: 2.5058 - accuracy: 0.2445\n",
            "Epoch 9: saving model to model/keypoint_classifier\\keypoint_classifier.keras\n",
            "66/66 [==============================] - 0s 2ms/step - loss: 2.5021 - accuracy: 0.2433 - val_loss: 2.1658 - val_accuracy: 0.4270\n",
            "Epoch 10/5000\n",
            "54/66 [=======================>......] - ETA: 0s - loss: 2.4436 - accuracy: 0.2500\n",
            "Epoch 10: saving model to model/keypoint_classifier\\keypoint_classifier.keras\n",
            "66/66 [==============================] - 0s 2ms/step - loss: 2.4408 - accuracy: 0.2499 - val_loss: 2.0842 - val_accuracy: 0.4474\n",
            "Epoch 11/5000\n",
            "56/66 [========================>.....] - ETA: 0s - loss: 2.3848 - accuracy: 0.2656\n",
            "Epoch 11: saving model to model/keypoint_classifier\\keypoint_classifier.keras\n",
            "66/66 [==============================] - 0s 2ms/step - loss: 2.3822 - accuracy: 0.2635 - val_loss: 2.0147 - val_accuracy: 0.4395\n",
            "Epoch 12/5000\n",
            "55/66 [========================>.....] - ETA: 0s - loss: 2.3535 - accuracy: 0.2605\n",
            "Epoch 12: saving model to model/keypoint_classifier\\keypoint_classifier.keras\n",
            "66/66 [==============================] - 0s 2ms/step - loss: 2.3553 - accuracy: 0.2593 - val_loss: 1.9491 - val_accuracy: 0.4664\n",
            "Epoch 13/5000\n",
            "57/66 [========================>.....] - ETA: 0s - loss: 2.2908 - accuracy: 0.2754\n",
            "Epoch 13: saving model to model/keypoint_classifier\\keypoint_classifier.keras\n",
            "66/66 [==============================] - 0s 1ms/step - loss: 2.2878 - accuracy: 0.2771 - val_loss: 1.8820 - val_accuracy: 0.4649\n",
            "Epoch 14/5000\n",
            "56/66 [========================>.....] - ETA: 0s - loss: 2.2771 - accuracy: 0.2794\n",
            "Epoch 14: saving model to model/keypoint_classifier\\keypoint_classifier.keras\n",
            "66/66 [==============================] - 0s 2ms/step - loss: 2.2731 - accuracy: 0.2815 - val_loss: 1.8522 - val_accuracy: 0.4642\n",
            "Epoch 15/5000\n",
            "58/66 [=========================>....] - ETA: 0s - loss: 2.2632 - accuracy: 0.2818\n",
            "Epoch 15: saving model to model/keypoint_classifier\\keypoint_classifier.keras\n",
            "66/66 [==============================] - 0s 2ms/step - loss: 2.2635 - accuracy: 0.2816 - val_loss: 1.8139 - val_accuracy: 0.4939\n",
            "Epoch 16/5000\n",
            "56/66 [========================>.....] - ETA: 0s - loss: 2.2307 - accuracy: 0.2916\n",
            "Epoch 16: saving model to model/keypoint_classifier\\keypoint_classifier.keras\n",
            "66/66 [==============================] - 0s 2ms/step - loss: 2.2248 - accuracy: 0.2908 - val_loss: 1.7813 - val_accuracy: 0.5100\n",
            "Epoch 17/5000\n",
            "56/66 [========================>.....] - ETA: 0s - loss: 2.1961 - accuracy: 0.2959\n",
            "Epoch 17: saving model to model/keypoint_classifier\\keypoint_classifier.keras\n",
            "66/66 [==============================] - 0s 2ms/step - loss: 2.1971 - accuracy: 0.2942 - val_loss: 1.7485 - val_accuracy: 0.5140\n",
            "Epoch 18/5000\n",
            "57/66 [========================>.....] - ETA: 0s - loss: 2.2047 - accuracy: 0.2941\n",
            "Epoch 18: saving model to model/keypoint_classifier\\keypoint_classifier.keras\n",
            "66/66 [==============================] - 0s 1ms/step - loss: 2.2036 - accuracy: 0.2945 - val_loss: 1.7363 - val_accuracy: 0.5047\n",
            "Epoch 19/5000\n",
            "57/66 [========================>.....] - ETA: 0s - loss: 2.1763 - accuracy: 0.3015\n",
            "Epoch 19: saving model to model/keypoint_classifier\\keypoint_classifier.keras\n",
            "66/66 [==============================] - 0s 2ms/step - loss: 2.1722 - accuracy: 0.3026 - val_loss: 1.6998 - val_accuracy: 0.5376\n",
            "Epoch 20/5000\n",
            "57/66 [========================>.....] - ETA: 0s - loss: 2.1337 - accuracy: 0.3166\n",
            "Epoch 20: saving model to model/keypoint_classifier\\keypoint_classifier.keras\n",
            "66/66 [==============================] - 0s 2ms/step - loss: 2.1324 - accuracy: 0.3177 - val_loss: 1.6723 - val_accuracy: 0.5132\n",
            "Epoch 21/5000\n",
            "56/66 [========================>.....] - ETA: 0s - loss: 2.1175 - accuracy: 0.3196\n",
            "Epoch 21: saving model to model/keypoint_classifier\\keypoint_classifier.keras\n",
            "66/66 [==============================] - 0s 2ms/step - loss: 2.1223 - accuracy: 0.3174 - val_loss: 1.6544 - val_accuracy: 0.5243\n",
            "Epoch 22/5000\n",
            "55/66 [========================>.....] - ETA: 0s - loss: 2.1245 - accuracy: 0.3094\n",
            "Epoch 22: saving model to model/keypoint_classifier\\keypoint_classifier.keras\n",
            "66/66 [==============================] - 0s 2ms/step - loss: 2.1196 - accuracy: 0.3118 - val_loss: 1.6418 - val_accuracy: 0.5426\n",
            "Epoch 23/5000\n",
            "55/66 [========================>.....] - ETA: 0s - loss: 2.1082 - accuracy: 0.3155\n",
            "Epoch 23: saving model to model/keypoint_classifier\\keypoint_classifier.keras\n",
            "66/66 [==============================] - 0s 2ms/step - loss: 2.1075 - accuracy: 0.3148 - val_loss: 1.6198 - val_accuracy: 0.5333\n",
            "Epoch 24/5000\n",
            "54/66 [=======================>......] - ETA: 0s - loss: 2.0754 - accuracy: 0.3226\n",
            "Epoch 24: saving model to model/keypoint_classifier\\keypoint_classifier.keras\n",
            "66/66 [==============================] - 0s 2ms/step - loss: 2.0744 - accuracy: 0.3257 - val_loss: 1.5976 - val_accuracy: 0.5383\n",
            "Epoch 25/5000\n",
            "55/66 [========================>.....] - ETA: 0s - loss: 2.0744 - accuracy: 0.3236\n",
            "Epoch 25: saving model to model/keypoint_classifier\\keypoint_classifier.keras\n",
            "66/66 [==============================] - 0s 2ms/step - loss: 2.0831 - accuracy: 0.3220 - val_loss: 1.5863 - val_accuracy: 0.5358\n",
            "Epoch 26/5000\n",
            "56/66 [========================>.....] - ETA: 0s - loss: 2.0589 - accuracy: 0.3238\n",
            "Epoch 26: saving model to model/keypoint_classifier\\keypoint_classifier.keras\n",
            "66/66 [==============================] - 0s 2ms/step - loss: 2.0591 - accuracy: 0.3255 - val_loss: 1.5710 - val_accuracy: 0.5544\n",
            "Epoch 27/5000\n",
            "57/66 [========================>.....] - ETA: 0s - loss: 2.0534 - accuracy: 0.3246\n",
            "Epoch 27: saving model to model/keypoint_classifier\\keypoint_classifier.keras\n",
            "66/66 [==============================] - 0s 2ms/step - loss: 2.0550 - accuracy: 0.3252 - val_loss: 1.5491 - val_accuracy: 0.5605\n",
            "Epoch 28/5000\n",
            "52/66 [======================>.......] - ETA: 0s - loss: 2.0226 - accuracy: 0.3316\n",
            "Epoch 28: saving model to model/keypoint_classifier\\keypoint_classifier.keras\n",
            "66/66 [==============================] - 0s 2ms/step - loss: 2.0250 - accuracy: 0.3304 - val_loss: 1.5347 - val_accuracy: 0.5591\n",
            "Epoch 29/5000\n",
            "59/66 [=========================>....] - ETA: 0s - loss: 2.0323 - accuracy: 0.3350\n",
            "Epoch 29: saving model to model/keypoint_classifier\\keypoint_classifier.keras\n",
            "66/66 [==============================] - 0s 2ms/step - loss: 2.0287 - accuracy: 0.3354 - val_loss: 1.5274 - val_accuracy: 0.5666\n",
            "Epoch 30/5000\n",
            "56/66 [========================>.....] - ETA: 0s - loss: 2.0318 - accuracy: 0.3443\n",
            "Epoch 30: saving model to model/keypoint_classifier\\keypoint_classifier.keras\n",
            "66/66 [==============================] - 0s 2ms/step - loss: 2.0346 - accuracy: 0.3405 - val_loss: 1.5202 - val_accuracy: 0.5748\n",
            "Epoch 31/5000\n",
            "56/66 [========================>.....] - ETA: 0s - loss: 2.0271 - accuracy: 0.3327\n",
            "Epoch 31: saving model to model/keypoint_classifier\\keypoint_classifier.keras\n",
            "66/66 [==============================] - 0s 2ms/step - loss: 2.0172 - accuracy: 0.3347 - val_loss: 1.5093 - val_accuracy: 0.5540\n",
            "Epoch 32/5000\n",
            "55/66 [========================>.....] - ETA: 0s - loss: 2.0019 - accuracy: 0.3455\n",
            "Epoch 32: saving model to model/keypoint_classifier\\keypoint_classifier.keras\n",
            "66/66 [==============================] - 0s 2ms/step - loss: 2.0031 - accuracy: 0.3427 - val_loss: 1.5073 - val_accuracy: 0.5802\n",
            "Epoch 33/5000\n",
            "57/66 [========================>.....] - ETA: 0s - loss: 1.9999 - accuracy: 0.3411\n",
            "Epoch 33: saving model to model/keypoint_classifier\\keypoint_classifier.keras\n",
            "66/66 [==============================] - 0s 2ms/step - loss: 1.9928 - accuracy: 0.3425 - val_loss: 1.4859 - val_accuracy: 0.5809\n",
            "Epoch 34/5000\n",
            "56/66 [========================>.....] - ETA: 0s - loss: 1.9961 - accuracy: 0.3436\n",
            "Epoch 34: saving model to model/keypoint_classifier\\keypoint_classifier.keras\n",
            "66/66 [==============================] - 0s 2ms/step - loss: 1.9980 - accuracy: 0.3425 - val_loss: 1.4688 - val_accuracy: 0.5948\n",
            "Epoch 35/5000\n",
            "57/66 [========================>.....] - ETA: 0s - loss: 1.9918 - accuracy: 0.3400\n",
            "Epoch 35: saving model to model/keypoint_classifier\\keypoint_classifier.keras\n",
            "66/66 [==============================] - 0s 2ms/step - loss: 1.9861 - accuracy: 0.3459 - val_loss: 1.4888 - val_accuracy: 0.5673\n",
            "Epoch 36/5000\n",
            "57/66 [========================>.....] - ETA: 0s - loss: 1.9790 - accuracy: 0.3451\n",
            "Epoch 36: saving model to model/keypoint_classifier\\keypoint_classifier.keras\n",
            "66/66 [==============================] - 0s 2ms/step - loss: 1.9721 - accuracy: 0.3498 - val_loss: 1.4673 - val_accuracy: 0.5780\n",
            "Epoch 37/5000\n",
            "55/66 [========================>.....] - ETA: 0s - loss: 1.9639 - accuracy: 0.3499\n",
            "Epoch 37: saving model to model/keypoint_classifier\\keypoint_classifier.keras\n",
            "66/66 [==============================] - 0s 2ms/step - loss: 1.9521 - accuracy: 0.3568 - val_loss: 1.4484 - val_accuracy: 0.5870\n",
            "Epoch 38/5000\n",
            "56/66 [========================>.....] - ETA: 0s - loss: 1.9585 - accuracy: 0.3541\n",
            "Epoch 38: saving model to model/keypoint_classifier\\keypoint_classifier.keras\n",
            "66/66 [==============================] - 0s 2ms/step - loss: 1.9627 - accuracy: 0.3524 - val_loss: 1.4551 - val_accuracy: 0.5952\n",
            "Epoch 39/5000\n",
            "58/66 [=========================>....] - ETA: 0s - loss: 1.9442 - accuracy: 0.3521\n",
            "Epoch 39: saving model to model/keypoint_classifier\\keypoint_classifier.keras\n",
            "66/66 [==============================] - 0s 1ms/step - loss: 1.9437 - accuracy: 0.3526 - val_loss: 1.4405 - val_accuracy: 0.5970\n",
            "Epoch 40/5000\n",
            "55/66 [========================>.....] - ETA: 0s - loss: 1.9428 - accuracy: 0.3661\n",
            "Epoch 40: saving model to model/keypoint_classifier\\keypoint_classifier.keras\n",
            "66/66 [==============================] - 0s 2ms/step - loss: 1.9377 - accuracy: 0.3665 - val_loss: 1.4220 - val_accuracy: 0.5913\n",
            "Epoch 41/5000\n",
            "56/66 [========================>.....] - ETA: 0s - loss: 1.9474 - accuracy: 0.3587\n",
            "Epoch 41: saving model to model/keypoint_classifier\\keypoint_classifier.keras\n",
            "66/66 [==============================] - 0s 2ms/step - loss: 1.9453 - accuracy: 0.3582 - val_loss: 1.4182 - val_accuracy: 0.5913\n",
            "Epoch 42/5000\n",
            "57/66 [========================>.....] - ETA: 0s - loss: 1.9465 - accuracy: 0.3572\n",
            "Epoch 42: saving model to model/keypoint_classifier\\keypoint_classifier.keras\n",
            "66/66 [==============================] - 0s 2ms/step - loss: 1.9451 - accuracy: 0.3561 - val_loss: 1.4004 - val_accuracy: 0.6042\n",
            "Epoch 43/5000\n",
            "55/66 [========================>.....] - ETA: 0s - loss: 1.9378 - accuracy: 0.3504\n",
            "Epoch 43: saving model to model/keypoint_classifier\\keypoint_classifier.keras\n",
            "66/66 [==============================] - 0s 2ms/step - loss: 1.9416 - accuracy: 0.3536 - val_loss: 1.4063 - val_accuracy: 0.5941\n",
            "Epoch 44/5000\n",
            "57/66 [========================>.....] - ETA: 0s - loss: 1.9276 - accuracy: 0.3655\n",
            "Epoch 44: saving model to model/keypoint_classifier\\keypoint_classifier.keras\n",
            "66/66 [==============================] - 0s 2ms/step - loss: 1.9264 - accuracy: 0.3665 - val_loss: 1.3967 - val_accuracy: 0.5941\n",
            "Epoch 45/5000\n",
            "52/66 [======================>.......] - ETA: 0s - loss: 1.9146 - accuracy: 0.3660\n",
            "Epoch 45: saving model to model/keypoint_classifier\\keypoint_classifier.keras\n",
            "66/66 [==============================] - 0s 2ms/step - loss: 1.9208 - accuracy: 0.3623 - val_loss: 1.3982 - val_accuracy: 0.5909\n",
            "Epoch 46/5000\n",
            "55/66 [========================>.....] - ETA: 0s - loss: 1.9414 - accuracy: 0.3592\n",
            "Epoch 46: saving model to model/keypoint_classifier\\keypoint_classifier.keras\n",
            "66/66 [==============================] - 0s 2ms/step - loss: 1.9379 - accuracy: 0.3610 - val_loss: 1.4008 - val_accuracy: 0.5902\n",
            "Epoch 47/5000\n",
            "55/66 [========================>.....] - ETA: 0s - loss: 1.9015 - accuracy: 0.3662\n",
            "Epoch 47: saving model to model/keypoint_classifier\\keypoint_classifier.keras\n",
            "66/66 [==============================] - 0s 2ms/step - loss: 1.9021 - accuracy: 0.3680 - val_loss: 1.3964 - val_accuracy: 0.5916\n",
            "Epoch 48/5000\n",
            "56/66 [========================>.....] - ETA: 0s - loss: 1.9070 - accuracy: 0.3615\n",
            "Epoch 48: saving model to model/keypoint_classifier\\keypoint_classifier.keras\n",
            "66/66 [==============================] - 0s 2ms/step - loss: 1.9033 - accuracy: 0.3669 - val_loss: 1.3796 - val_accuracy: 0.5866\n",
            "Epoch 49/5000\n",
            "55/66 [========================>.....] - ETA: 0s - loss: 1.9082 - accuracy: 0.3608\n",
            "Epoch 49: saving model to model/keypoint_classifier\\keypoint_classifier.keras\n",
            "66/66 [==============================] - 0s 2ms/step - loss: 1.9050 - accuracy: 0.3611 - val_loss: 1.3777 - val_accuracy: 0.5923\n",
            "Epoch 50/5000\n",
            "57/66 [========================>.....] - ETA: 0s - loss: 1.8963 - accuracy: 0.3644\n",
            "Epoch 50: saving model to model/keypoint_classifier\\keypoint_classifier.keras\n",
            "66/66 [==============================] - 0s 2ms/step - loss: 1.8962 - accuracy: 0.3662 - val_loss: 1.3704 - val_accuracy: 0.5827\n",
            "Epoch 51/5000\n",
            "56/66 [========================>.....] - ETA: 0s - loss: 1.9024 - accuracy: 0.3578\n",
            "Epoch 51: saving model to model/keypoint_classifier\\keypoint_classifier.keras\n",
            "66/66 [==============================] - 0s 2ms/step - loss: 1.8995 - accuracy: 0.3624 - val_loss: 1.3767 - val_accuracy: 0.5723\n",
            "Epoch 52/5000\n",
            "55/66 [========================>.....] - ETA: 0s - loss: 1.8922 - accuracy: 0.3717\n",
            "Epoch 52: saving model to model/keypoint_classifier\\keypoint_classifier.keras\n",
            "66/66 [==============================] - 0s 2ms/step - loss: 1.8911 - accuracy: 0.3692 - val_loss: 1.3621 - val_accuracy: 0.5891\n",
            "Epoch 53/5000\n",
            "55/66 [========================>.....] - ETA: 0s - loss: 1.8606 - accuracy: 0.3759\n",
            "Epoch 53: saving model to model/keypoint_classifier\\keypoint_classifier.keras\n",
            "66/66 [==============================] - 0s 2ms/step - loss: 1.8610 - accuracy: 0.3729 - val_loss: 1.3629 - val_accuracy: 0.5895\n",
            "Epoch 54/5000\n",
            "56/66 [========================>.....] - ETA: 0s - loss: 1.8738 - accuracy: 0.3823\n",
            "Epoch 54: saving model to model/keypoint_classifier\\keypoint_classifier.keras\n",
            "66/66 [==============================] - 0s 2ms/step - loss: 1.8756 - accuracy: 0.3774 - val_loss: 1.3576 - val_accuracy: 0.5984\n",
            "Epoch 55/5000\n",
            "53/66 [=======================>......] - ETA: 0s - loss: 1.8559 - accuracy: 0.3781\n",
            "Epoch 55: saving model to model/keypoint_classifier\\keypoint_classifier.keras\n",
            "66/66 [==============================] - 0s 2ms/step - loss: 1.8626 - accuracy: 0.3777 - val_loss: 1.3476 - val_accuracy: 0.5981\n",
            "Epoch 56/5000\n",
            "57/66 [========================>.....] - ETA: 0s - loss: 1.8874 - accuracy: 0.3727\n",
            "Epoch 56: saving model to model/keypoint_classifier\\keypoint_classifier.keras\n",
            "66/66 [==============================] - 0s 2ms/step - loss: 1.8800 - accuracy: 0.3764 - val_loss: 1.3492 - val_accuracy: 0.5880\n",
            "Epoch 57/5000\n",
            "58/66 [=========================>....] - ETA: 0s - loss: 1.8589 - accuracy: 0.3804\n",
            "Epoch 57: saving model to model/keypoint_classifier\\keypoint_classifier.keras\n",
            "66/66 [==============================] - 0s 2ms/step - loss: 1.8620 - accuracy: 0.3805 - val_loss: 1.3426 - val_accuracy: 0.5870\n",
            "Epoch 58/5000\n",
            "55/66 [========================>.....] - ETA: 0s - loss: 1.8761 - accuracy: 0.3800\n",
            "Epoch 58: saving model to model/keypoint_classifier\\keypoint_classifier.keras\n",
            "66/66 [==============================] - 0s 2ms/step - loss: 1.8670 - accuracy: 0.3811 - val_loss: 1.3332 - val_accuracy: 0.5705\n",
            "Epoch 59/5000\n",
            "54/66 [=======================>......] - ETA: 0s - loss: 1.8438 - accuracy: 0.3828\n",
            "Epoch 59: saving model to model/keypoint_classifier\\keypoint_classifier.keras\n",
            "66/66 [==============================] - 0s 2ms/step - loss: 1.8509 - accuracy: 0.3852 - val_loss: 1.3290 - val_accuracy: 0.5931\n",
            "Epoch 60/5000\n",
            "58/66 [=========================>....] - ETA: 0s - loss: 1.8416 - accuracy: 0.3840\n",
            "Epoch 60: saving model to model/keypoint_classifier\\keypoint_classifier.keras\n",
            "66/66 [==============================] - 0s 2ms/step - loss: 1.8452 - accuracy: 0.3827 - val_loss: 1.3269 - val_accuracy: 0.6084\n",
            "Epoch 61/5000\n",
            "57/66 [========================>.....] - ETA: 0s - loss: 1.8555 - accuracy: 0.3772\n",
            "Epoch 61: saving model to model/keypoint_classifier\\keypoint_classifier.keras\n",
            "66/66 [==============================] - 0s 2ms/step - loss: 1.8575 - accuracy: 0.3778 - val_loss: 1.3275 - val_accuracy: 0.5956\n",
            "Epoch 62/5000\n",
            "57/66 [========================>.....] - ETA: 0s - loss: 1.8606 - accuracy: 0.3792\n",
            "Epoch 62: saving model to model/keypoint_classifier\\keypoint_classifier.keras\n",
            "66/66 [==============================] - 0s 2ms/step - loss: 1.8601 - accuracy: 0.3808 - val_loss: 1.3366 - val_accuracy: 0.5952\n",
            "Epoch 63/5000\n",
            "57/66 [========================>.....] - ETA: 0s - loss: 1.8582 - accuracy: 0.3845\n",
            "Epoch 63: saving model to model/keypoint_classifier\\keypoint_classifier.keras\n",
            "66/66 [==============================] - 0s 2ms/step - loss: 1.8553 - accuracy: 0.3841 - val_loss: 1.3162 - val_accuracy: 0.6002\n",
            "Epoch 64/5000\n",
            "58/66 [=========================>....] - ETA: 0s - loss: 1.8396 - accuracy: 0.3850\n",
            "Epoch 64: saving model to model/keypoint_classifier\\keypoint_classifier.keras\n",
            "66/66 [==============================] - 0s 2ms/step - loss: 1.8383 - accuracy: 0.3859 - val_loss: 1.3029 - val_accuracy: 0.6099\n",
            "Epoch 65/5000\n",
            "47/66 [====================>.........] - ETA: 0s - loss: 1.8436 - accuracy: 0.3916\n",
            "Epoch 65: saving model to model/keypoint_classifier\\keypoint_classifier.keras\n",
            "66/66 [==============================] - 0s 2ms/step - loss: 1.8424 - accuracy: 0.3881 - val_loss: 1.3228 - val_accuracy: 0.5880\n",
            "Epoch 66/5000\n",
            "57/66 [========================>.....] - ETA: 0s - loss: 1.8122 - accuracy: 0.3984\n",
            "Epoch 66: saving model to model/keypoint_classifier\\keypoint_classifier.keras\n",
            "66/66 [==============================] - 0s 2ms/step - loss: 1.8130 - accuracy: 0.3975 - val_loss: 1.2949 - val_accuracy: 0.5895\n",
            "Epoch 67/5000\n",
            "58/66 [=========================>....] - ETA: 0s - loss: 1.8372 - accuracy: 0.3782\n",
            "Epoch 67: saving model to model/keypoint_classifier\\keypoint_classifier.keras\n",
            "66/66 [==============================] - 0s 1ms/step - loss: 1.8368 - accuracy: 0.3815 - val_loss: 1.3105 - val_accuracy: 0.5888\n",
            "Epoch 68/5000\n",
            "57/66 [========================>.....] - ETA: 0s - loss: 1.8302 - accuracy: 0.3821\n",
            "Epoch 68: saving model to model/keypoint_classifier\\keypoint_classifier.keras\n",
            "66/66 [==============================] - 0s 2ms/step - loss: 1.8234 - accuracy: 0.3839 - val_loss: 1.3042 - val_accuracy: 0.5923\n",
            "Epoch 69/5000\n",
            "57/66 [========================>.....] - ETA: 0s - loss: 1.8255 - accuracy: 0.3882\n",
            "Epoch 69: saving model to model/keypoint_classifier\\keypoint_classifier.keras\n",
            "66/66 [==============================] - 0s 2ms/step - loss: 1.8270 - accuracy: 0.3878 - val_loss: 1.3044 - val_accuracy: 0.5870\n",
            "Epoch 70/5000\n",
            "56/66 [========================>.....] - ETA: 0s - loss: 1.7854 - accuracy: 0.4000\n",
            "Epoch 70: saving model to model/keypoint_classifier\\keypoint_classifier.keras\n",
            "66/66 [==============================] - 0s 2ms/step - loss: 1.7882 - accuracy: 0.4002 - val_loss: 1.2903 - val_accuracy: 0.6271\n",
            "Epoch 71/5000\n",
            "55/66 [========================>.....] - ETA: 0s - loss: 1.8308 - accuracy: 0.3952\n",
            "Epoch 71: saving model to model/keypoint_classifier\\keypoint_classifier.keras\n",
            "66/66 [==============================] - 0s 2ms/step - loss: 1.8244 - accuracy: 0.3965 - val_loss: 1.2939 - val_accuracy: 0.5966\n",
            "Epoch 72/5000\n",
            "54/66 [=======================>......] - ETA: 0s - loss: 1.8111 - accuracy: 0.3911\n",
            "Epoch 72: saving model to model/keypoint_classifier\\keypoint_classifier.keras\n",
            "66/66 [==============================] - 0s 2ms/step - loss: 1.8099 - accuracy: 0.3920 - val_loss: 1.2971 - val_accuracy: 0.6020\n",
            "Epoch 73/5000\n",
            "55/66 [========================>.....] - ETA: 0s - loss: 1.8230 - accuracy: 0.3949\n",
            "Epoch 73: saving model to model/keypoint_classifier\\keypoint_classifier.keras\n",
            "66/66 [==============================] - 0s 2ms/step - loss: 1.8218 - accuracy: 0.3950 - val_loss: 1.2900 - val_accuracy: 0.5873\n",
            "Epoch 74/5000\n",
            "55/66 [========================>.....] - ETA: 0s - loss: 1.8255 - accuracy: 0.3945\n",
            "Epoch 74: saving model to model/keypoint_classifier\\keypoint_classifier.keras\n",
            "66/66 [==============================] - 0s 2ms/step - loss: 1.8203 - accuracy: 0.3955 - val_loss: 1.2898 - val_accuracy: 0.6049\n",
            "Epoch 75/5000\n",
            "55/66 [========================>.....] - ETA: 0s - loss: 1.7940 - accuracy: 0.3949\n",
            "Epoch 75: saving model to model/keypoint_classifier\\keypoint_classifier.keras\n",
            "66/66 [==============================] - 0s 2ms/step - loss: 1.7957 - accuracy: 0.3942 - val_loss: 1.2842 - val_accuracy: 0.6131\n",
            "Epoch 76/5000\n",
            "52/66 [======================>.......] - ETA: 0s - loss: 1.8062 - accuracy: 0.3914\n",
            "Epoch 76: saving model to model/keypoint_classifier\\keypoint_classifier.keras\n",
            "66/66 [==============================] - 0s 2ms/step - loss: 1.8017 - accuracy: 0.3983 - val_loss: 1.2814 - val_accuracy: 0.5931\n",
            "Epoch 77/5000\n",
            "54/66 [=======================>......] - ETA: 0s - loss: 1.7742 - accuracy: 0.4078\n",
            "Epoch 77: saving model to model/keypoint_classifier\\keypoint_classifier.keras\n",
            "66/66 [==============================] - 0s 2ms/step - loss: 1.7783 - accuracy: 0.4075 - val_loss: 1.2721 - val_accuracy: 0.5913\n",
            "Epoch 78/5000\n",
            "55/66 [========================>.....] - ETA: 0s - loss: 1.7885 - accuracy: 0.4023\n",
            "Epoch 78: saving model to model/keypoint_classifier\\keypoint_classifier.keras\n",
            "66/66 [==============================] - 0s 2ms/step - loss: 1.7871 - accuracy: 0.4051 - val_loss: 1.2672 - val_accuracy: 0.5999\n",
            "Epoch 79/5000\n",
            "56/66 [========================>.....] - ETA: 0s - loss: 1.8176 - accuracy: 0.3945\n",
            "Epoch 79: saving model to model/keypoint_classifier\\keypoint_classifier.keras\n",
            "66/66 [==============================] - 0s 2ms/step - loss: 1.8158 - accuracy: 0.3928 - val_loss: 1.2669 - val_accuracy: 0.6321\n",
            "Epoch 80/5000\n",
            "54/66 [=======================>......] - ETA: 0s - loss: 1.7881 - accuracy: 0.4012\n",
            "Epoch 80: saving model to model/keypoint_classifier\\keypoint_classifier.keras\n",
            "66/66 [==============================] - 0s 2ms/step - loss: 1.7993 - accuracy: 0.3977 - val_loss: 1.2858 - val_accuracy: 0.5959\n",
            "Epoch 81/5000\n",
            "54/66 [=======================>......] - ETA: 0s - loss: 1.7877 - accuracy: 0.4016\n",
            "Epoch 81: saving model to model/keypoint_classifier\\keypoint_classifier.keras\n",
            "66/66 [==============================] - 0s 2ms/step - loss: 1.7809 - accuracy: 0.4047 - val_loss: 1.2542 - val_accuracy: 0.6278\n",
            "Epoch 82/5000\n",
            "56/66 [========================>.....] - ETA: 0s - loss: 1.7543 - accuracy: 0.4129\n",
            "Epoch 82: saving model to model/keypoint_classifier\\keypoint_classifier.keras\n",
            "66/66 [==============================] - 0s 2ms/step - loss: 1.7598 - accuracy: 0.4100 - val_loss: 1.2483 - val_accuracy: 0.6356\n",
            "Epoch 83/5000\n",
            "56/66 [========================>.....] - ETA: 0s - loss: 1.7862 - accuracy: 0.4071\n",
            "Epoch 83: saving model to model/keypoint_classifier\\keypoint_classifier.keras\n",
            "66/66 [==============================] - 0s 2ms/step - loss: 1.7835 - accuracy: 0.4053 - val_loss: 1.2627 - val_accuracy: 0.6027\n",
            "Epoch 84/5000\n",
            "56/66 [========================>.....] - ETA: 0s - loss: 1.7621 - accuracy: 0.4078\n",
            "Epoch 84: saving model to model/keypoint_classifier\\keypoint_classifier.keras\n",
            "66/66 [==============================] - 0s 2ms/step - loss: 1.7670 - accuracy: 0.4122 - val_loss: 1.2643 - val_accuracy: 0.6074\n",
            "Epoch 85/5000\n",
            "47/66 [====================>.........] - ETA: 0s - loss: 1.7617 - accuracy: 0.4061\n",
            "Epoch 85: saving model to model/keypoint_classifier\\keypoint_classifier.keras\n",
            "66/66 [==============================] - 0s 2ms/step - loss: 1.7654 - accuracy: 0.4082 - val_loss: 1.2466 - val_accuracy: 0.6203\n",
            "Epoch 86/5000\n",
            "56/66 [========================>.....] - ETA: 0s - loss: 1.7483 - accuracy: 0.4134\n",
            "Epoch 86: saving model to model/keypoint_classifier\\keypoint_classifier.keras\n",
            "66/66 [==============================] - 0s 2ms/step - loss: 1.7559 - accuracy: 0.4106 - val_loss: 1.2404 - val_accuracy: 0.6238\n",
            "Epoch 87/5000\n",
            "57/66 [========================>.....] - ETA: 0s - loss: 1.7468 - accuracy: 0.4139\n",
            "Epoch 87: saving model to model/keypoint_classifier\\keypoint_classifier.keras\n",
            "66/66 [==============================] - 0s 2ms/step - loss: 1.7444 - accuracy: 0.4146 - val_loss: 1.2383 - val_accuracy: 0.6246\n",
            "Epoch 88/5000\n",
            "58/66 [=========================>....] - ETA: 0s - loss: 1.7479 - accuracy: 0.4158\n",
            "Epoch 88: saving model to model/keypoint_classifier\\keypoint_classifier.keras\n",
            "66/66 [==============================] - 0s 2ms/step - loss: 1.7515 - accuracy: 0.4165 - val_loss: 1.2420 - val_accuracy: 0.6238\n",
            "Epoch 89/5000\n",
            "55/66 [========================>.....] - ETA: 0s - loss: 1.7640 - accuracy: 0.4163\n",
            "Epoch 89: saving model to model/keypoint_classifier\\keypoint_classifier.keras\n",
            "66/66 [==============================] - 0s 2ms/step - loss: 1.7648 - accuracy: 0.4154 - val_loss: 1.2325 - val_accuracy: 0.6353\n",
            "Epoch 90/5000\n",
            "55/66 [========================>.....] - ETA: 0s - loss: 1.7442 - accuracy: 0.4053\n",
            "Epoch 90: saving model to model/keypoint_classifier\\keypoint_classifier.keras\n",
            "66/66 [==============================] - 0s 2ms/step - loss: 1.7447 - accuracy: 0.4055 - val_loss: 1.2419 - val_accuracy: 0.6260\n",
            "Epoch 91/5000\n",
            "56/66 [========================>.....] - ETA: 0s - loss: 1.7582 - accuracy: 0.4167\n",
            "Epoch 91: saving model to model/keypoint_classifier\\keypoint_classifier.keras\n",
            "66/66 [==============================] - 0s 2ms/step - loss: 1.7608 - accuracy: 0.4153 - val_loss: 1.2306 - val_accuracy: 0.6460\n",
            "Epoch 92/5000\n",
            "56/66 [========================>.....] - ETA: 0s - loss: 1.7427 - accuracy: 0.4136\n",
            "Epoch 92: saving model to model/keypoint_classifier\\keypoint_classifier.keras\n",
            "66/66 [==============================] - 0s 2ms/step - loss: 1.7501 - accuracy: 0.4113 - val_loss: 1.2365 - val_accuracy: 0.6367\n",
            "Epoch 93/5000\n",
            "56/66 [========================>.....] - ETA: 0s - loss: 1.7685 - accuracy: 0.4056\n",
            "Epoch 93: saving model to model/keypoint_classifier\\keypoint_classifier.keras\n",
            "66/66 [==============================] - 0s 2ms/step - loss: 1.7692 - accuracy: 0.4069 - val_loss: 1.2477 - val_accuracy: 0.6306\n",
            "Epoch 94/5000\n",
            "57/66 [========================>.....] - ETA: 0s - loss: 1.7336 - accuracy: 0.4198\n",
            "Epoch 94: saving model to model/keypoint_classifier\\keypoint_classifier.keras\n",
            "66/66 [==============================] - 0s 2ms/step - loss: 1.7307 - accuracy: 0.4202 - val_loss: 1.2252 - val_accuracy: 0.6392\n",
            "Epoch 95/5000\n",
            "54/66 [=======================>......] - ETA: 0s - loss: 1.7434 - accuracy: 0.4206\n",
            "Epoch 95: saving model to model/keypoint_classifier\\keypoint_classifier.keras\n",
            "66/66 [==============================] - 0s 2ms/step - loss: 1.7385 - accuracy: 0.4214 - val_loss: 1.2196 - val_accuracy: 0.6342\n",
            "Epoch 96/5000\n",
            "57/66 [========================>.....] - ETA: 0s - loss: 1.7483 - accuracy: 0.4131\n",
            "Epoch 96: saving model to model/keypoint_classifier\\keypoint_classifier.keras\n",
            "66/66 [==============================] - 0s 2ms/step - loss: 1.7441 - accuracy: 0.4142 - val_loss: 1.2235 - val_accuracy: 0.6403\n",
            "Epoch 97/5000\n",
            "54/66 [=======================>......] - ETA: 0s - loss: 1.7512 - accuracy: 0.4141\n",
            "Epoch 97: saving model to model/keypoint_classifier\\keypoint_classifier.keras\n",
            "66/66 [==============================] - 0s 2ms/step - loss: 1.7609 - accuracy: 0.4155 - val_loss: 1.2342 - val_accuracy: 0.6281\n",
            "Epoch 98/5000\n",
            "54/66 [=======================>......] - ETA: 0s - loss: 1.7476 - accuracy: 0.4167\n",
            "Epoch 98: saving model to model/keypoint_classifier\\keypoint_classifier.keras\n",
            "66/66 [==============================] - 0s 2ms/step - loss: 1.7459 - accuracy: 0.4184 - val_loss: 1.2294 - val_accuracy: 0.6353\n",
            "Epoch 99/5000\n",
            "57/66 [========================>.....] - ETA: 0s - loss: 1.7487 - accuracy: 0.4115\n",
            "Epoch 99: saving model to model/keypoint_classifier\\keypoint_classifier.keras\n",
            "66/66 [==============================] - 0s 2ms/step - loss: 1.7486 - accuracy: 0.4130 - val_loss: 1.2305 - val_accuracy: 0.6349\n",
            "Epoch 100/5000\n",
            "58/66 [=========================>....] - ETA: 0s - loss: 1.7084 - accuracy: 0.4281\n",
            "Epoch 100: saving model to model/keypoint_classifier\\keypoint_classifier.keras\n",
            "66/66 [==============================] - 0s 2ms/step - loss: 1.7223 - accuracy: 0.4248 - val_loss: 1.2194 - val_accuracy: 0.6553\n",
            "Epoch 101/5000\n",
            "55/66 [========================>.....] - ETA: 0s - loss: 1.7336 - accuracy: 0.4270\n",
            "Epoch 101: saving model to model/keypoint_classifier\\keypoint_classifier.keras\n",
            "66/66 [==============================] - 0s 2ms/step - loss: 1.7312 - accuracy: 0.4272 - val_loss: 1.2124 - val_accuracy: 0.6410\n",
            "Epoch 102/5000\n",
            "56/66 [========================>.....] - ETA: 0s - loss: 1.7328 - accuracy: 0.4199\n",
            "Epoch 102: saving model to model/keypoint_classifier\\keypoint_classifier.keras\n",
            "66/66 [==============================] - 0s 2ms/step - loss: 1.7297 - accuracy: 0.4218 - val_loss: 1.2134 - val_accuracy: 0.6367\n",
            "Epoch 103/5000\n",
            "48/66 [====================>.........] - ETA: 0s - loss: 1.7202 - accuracy: 0.4331\n",
            "Epoch 103: saving model to model/keypoint_classifier\\keypoint_classifier.keras\n",
            "66/66 [==============================] - 0s 2ms/step - loss: 1.7218 - accuracy: 0.4298 - val_loss: 1.2174 - val_accuracy: 0.6263\n",
            "Epoch 104/5000\n",
            "57/66 [========================>.....] - ETA: 0s - loss: 1.7235 - accuracy: 0.4241\n",
            "Epoch 104: saving model to model/keypoint_classifier\\keypoint_classifier.keras\n",
            "66/66 [==============================] - 0s 2ms/step - loss: 1.7210 - accuracy: 0.4230 - val_loss: 1.2086 - val_accuracy: 0.6586\n",
            "Epoch 105/5000\n",
            "57/66 [========================>.....] - ETA: 0s - loss: 1.7232 - accuracy: 0.4258\n",
            "Epoch 105: saving model to model/keypoint_classifier\\keypoint_classifier.keras\n",
            "66/66 [==============================] - 0s 2ms/step - loss: 1.7249 - accuracy: 0.4254 - val_loss: 1.2178 - val_accuracy: 0.6414\n",
            "Epoch 106/5000\n",
            "56/66 [========================>.....] - ETA: 0s - loss: 1.7317 - accuracy: 0.4282\n",
            "Epoch 106: saving model to model/keypoint_classifier\\keypoint_classifier.keras\n",
            "66/66 [==============================] - 0s 2ms/step - loss: 1.7265 - accuracy: 0.4272 - val_loss: 1.2105 - val_accuracy: 0.6550\n",
            "Epoch 107/5000\n",
            "56/66 [========================>.....] - ETA: 0s - loss: 1.7123 - accuracy: 0.4259\n",
            "Epoch 107: saving model to model/keypoint_classifier\\keypoint_classifier.keras\n",
            "66/66 [==============================] - 0s 2ms/step - loss: 1.7117 - accuracy: 0.4257 - val_loss: 1.2172 - val_accuracy: 0.6364\n",
            "Epoch 108/5000\n",
            "57/66 [========================>.....] - ETA: 0s - loss: 1.7234 - accuracy: 0.4253\n",
            "Epoch 108: saving model to model/keypoint_classifier\\keypoint_classifier.keras\n",
            "66/66 [==============================] - 0s 2ms/step - loss: 1.7240 - accuracy: 0.4265 - val_loss: 1.2105 - val_accuracy: 0.6382\n",
            "Epoch 109/5000\n",
            "58/66 [=========================>....] - ETA: 0s - loss: 1.7006 - accuracy: 0.4309\n",
            "Epoch 109: saving model to model/keypoint_classifier\\keypoint_classifier.keras\n",
            "66/66 [==============================] - 0s 1ms/step - loss: 1.7012 - accuracy: 0.4314 - val_loss: 1.2008 - val_accuracy: 0.6446\n",
            "Epoch 110/5000\n",
            "57/66 [========================>.....] - ETA: 0s - loss: 1.7219 - accuracy: 0.4280\n",
            "Epoch 110: saving model to model/keypoint_classifier\\keypoint_classifier.keras\n",
            "66/66 [==============================] - 0s 2ms/step - loss: 1.7135 - accuracy: 0.4289 - val_loss: 1.1960 - val_accuracy: 0.6650\n",
            "Epoch 111/5000\n",
            "56/66 [========================>.....] - ETA: 0s - loss: 1.7238 - accuracy: 0.4252\n",
            "Epoch 111: saving model to model/keypoint_classifier\\keypoint_classifier.keras\n",
            "66/66 [==============================] - 0s 2ms/step - loss: 1.7202 - accuracy: 0.4248 - val_loss: 1.1933 - val_accuracy: 0.6421\n",
            "Epoch 112/5000\n",
            "57/66 [========================>.....] - ETA: 0s - loss: 1.6997 - accuracy: 0.4316\n",
            "Epoch 112: saving model to model/keypoint_classifier\\keypoint_classifier.keras\n",
            "66/66 [==============================] - 0s 2ms/step - loss: 1.6992 - accuracy: 0.4310 - val_loss: 1.2034 - val_accuracy: 0.6374\n",
            "Epoch 113/5000\n",
            "55/66 [========================>.....] - ETA: 0s - loss: 1.7218 - accuracy: 0.4223\n",
            "Epoch 113: saving model to model/keypoint_classifier\\keypoint_classifier.keras\n",
            "66/66 [==============================] - 0s 2ms/step - loss: 1.7224 - accuracy: 0.4210 - val_loss: 1.2068 - val_accuracy: 0.6435\n",
            "Epoch 114/5000\n",
            "54/66 [=======================>......] - ETA: 0s - loss: 1.7087 - accuracy: 0.4288\n",
            "Epoch 114: saving model to model/keypoint_classifier\\keypoint_classifier.keras\n",
            "66/66 [==============================] - 0s 2ms/step - loss: 1.7117 - accuracy: 0.4271 - val_loss: 1.1992 - val_accuracy: 0.6589\n",
            "Epoch 115/5000\n",
            "58/66 [=========================>....] - ETA: 0s - loss: 1.6995 - accuracy: 0.4388\n",
            "Epoch 115: saving model to model/keypoint_classifier\\keypoint_classifier.keras\n",
            "66/66 [==============================] - 0s 2ms/step - loss: 1.7010 - accuracy: 0.4379 - val_loss: 1.1947 - val_accuracy: 0.6489\n",
            "Epoch 116/5000\n",
            "55/66 [========================>.....] - ETA: 0s - loss: 1.7065 - accuracy: 0.4219\n",
            "Epoch 116: saving model to model/keypoint_classifier\\keypoint_classifier.keras\n",
            "66/66 [==============================] - 0s 2ms/step - loss: 1.7027 - accuracy: 0.4274 - val_loss: 1.1951 - val_accuracy: 0.6532\n",
            "Epoch 117/5000\n",
            "54/66 [=======================>......] - ETA: 0s - loss: 1.6869 - accuracy: 0.4298\n",
            "Epoch 117: saving model to model/keypoint_classifier\\keypoint_classifier.keras\n",
            "66/66 [==============================] - 0s 2ms/step - loss: 1.7022 - accuracy: 0.4265 - val_loss: 1.1916 - val_accuracy: 0.6646\n",
            "Epoch 118/5000\n",
            "55/66 [========================>.....] - ETA: 0s - loss: 1.6848 - accuracy: 0.4317\n",
            "Epoch 118: saving model to model/keypoint_classifier\\keypoint_classifier.keras\n",
            "66/66 [==============================] - 0s 2ms/step - loss: 1.6874 - accuracy: 0.4294 - val_loss: 1.1872 - val_accuracy: 0.6528\n",
            "Epoch 119/5000\n",
            "57/66 [========================>.....] - ETA: 0s - loss: 1.6905 - accuracy: 0.4442\n",
            "Epoch 119: saving model to model/keypoint_classifier\\keypoint_classifier.keras\n",
            "66/66 [==============================] - 0s 2ms/step - loss: 1.6915 - accuracy: 0.4465 - val_loss: 1.1897 - val_accuracy: 0.6464\n",
            "Epoch 120/5000\n",
            "59/66 [=========================>....] - ETA: 0s - loss: 1.6819 - accuracy: 0.4341\n",
            "Epoch 120: saving model to model/keypoint_classifier\\keypoint_classifier.keras\n",
            "66/66 [==============================] - 0s 2ms/step - loss: 1.6845 - accuracy: 0.4350 - val_loss: 1.1923 - val_accuracy: 0.6586\n",
            "Epoch 121/5000\n",
            "55/66 [========================>.....] - ETA: 0s - loss: 1.6594 - accuracy: 0.4491\n",
            "Epoch 121: saving model to model/keypoint_classifier\\keypoint_classifier.keras\n",
            "66/66 [==============================] - 0s 2ms/step - loss: 1.6647 - accuracy: 0.4476 - val_loss: 1.1856 - val_accuracy: 0.6478\n",
            "Epoch 122/5000\n",
            "57/66 [========================>.....] - ETA: 0s - loss: 1.6727 - accuracy: 0.4391\n",
            "Epoch 122: saving model to model/keypoint_classifier\\keypoint_classifier.keras\n",
            "66/66 [==============================] - 0s 3ms/step - loss: 1.6801 - accuracy: 0.4383 - val_loss: 1.1797 - val_accuracy: 0.6532\n",
            "Epoch 123/5000\n",
            "56/66 [========================>.....] - ETA: 0s - loss: 1.6883 - accuracy: 0.4346\n",
            "Epoch 123: saving model to model/keypoint_classifier\\keypoint_classifier.keras\n",
            "66/66 [==============================] - 0s 2ms/step - loss: 1.6838 - accuracy: 0.4364 - val_loss: 1.1783 - val_accuracy: 0.6729\n",
            "Epoch 124/5000\n",
            "55/66 [========================>.....] - ETA: 0s - loss: 1.6865 - accuracy: 0.4384\n",
            "Epoch 124: saving model to model/keypoint_classifier\\keypoint_classifier.keras\n",
            "66/66 [==============================] - 0s 2ms/step - loss: 1.6790 - accuracy: 0.4413 - val_loss: 1.1790 - val_accuracy: 0.6596\n",
            "Epoch 125/5000\n",
            "55/66 [========================>.....] - ETA: 0s - loss: 1.6817 - accuracy: 0.4415\n",
            "Epoch 125: saving model to model/keypoint_classifier\\keypoint_classifier.keras\n",
            "66/66 [==============================] - 0s 2ms/step - loss: 1.6840 - accuracy: 0.4426 - val_loss: 1.1908 - val_accuracy: 0.6442\n",
            "Epoch 126/5000\n",
            "58/66 [=========================>....] - ETA: 0s - loss: 1.6819 - accuracy: 0.4391\n",
            "Epoch 126: saving model to model/keypoint_classifier\\keypoint_classifier.keras\n",
            "66/66 [==============================] - 0s 1ms/step - loss: 1.6798 - accuracy: 0.4409 - val_loss: 1.1802 - val_accuracy: 0.6564\n",
            "Epoch 127/5000\n",
            "56/66 [========================>.....] - ETA: 0s - loss: 1.6767 - accuracy: 0.4408\n",
            "Epoch 127: saving model to model/keypoint_classifier\\keypoint_classifier.keras\n",
            "66/66 [==============================] - 0s 2ms/step - loss: 1.6714 - accuracy: 0.4425 - val_loss: 1.1699 - val_accuracy: 0.6589\n",
            "Epoch 128/5000\n",
            "54/66 [=======================>......] - ETA: 0s - loss: 1.6795 - accuracy: 0.4366\n",
            "Epoch 128: saving model to model/keypoint_classifier\\keypoint_classifier.keras\n",
            "66/66 [==============================] - 0s 2ms/step - loss: 1.6777 - accuracy: 0.4379 - val_loss: 1.1740 - val_accuracy: 0.6564\n",
            "Epoch 129/5000\n",
            "56/66 [========================>.....] - ETA: 0s - loss: 1.6794 - accuracy: 0.4449\n",
            "Epoch 129: saving model to model/keypoint_classifier\\keypoint_classifier.keras\n",
            "66/66 [==============================] - 0s 2ms/step - loss: 1.6866 - accuracy: 0.4416 - val_loss: 1.1850 - val_accuracy: 0.6535\n",
            "Epoch 130/5000\n",
            "57/66 [========================>.....] - ETA: 0s - loss: 1.6830 - accuracy: 0.4428\n",
            "Epoch 130: saving model to model/keypoint_classifier\\keypoint_classifier.keras\n",
            "66/66 [==============================] - 0s 2ms/step - loss: 1.6809 - accuracy: 0.4422 - val_loss: 1.1889 - val_accuracy: 0.6586\n",
            "Epoch 131/5000\n",
            "55/66 [========================>.....] - ETA: 0s - loss: 1.6619 - accuracy: 0.4389\n",
            "Epoch 131: saving model to model/keypoint_classifier\\keypoint_classifier.keras\n",
            "66/66 [==============================] - 0s 2ms/step - loss: 1.6587 - accuracy: 0.4399 - val_loss: 1.1813 - val_accuracy: 0.6496\n",
            "Epoch 132/5000\n",
            "55/66 [========================>.....] - ETA: 0s - loss: 1.6680 - accuracy: 0.4484\n",
            "Epoch 132: saving model to model/keypoint_classifier\\keypoint_classifier.keras\n",
            "66/66 [==============================] - 0s 2ms/step - loss: 1.6745 - accuracy: 0.4496 - val_loss: 1.1719 - val_accuracy: 0.6568\n",
            "Epoch 133/5000\n",
            "56/66 [========================>.....] - ETA: 0s - loss: 1.6697 - accuracy: 0.4457\n",
            "Epoch 133: saving model to model/keypoint_classifier\\keypoint_classifier.keras\n",
            "66/66 [==============================] - 0s 2ms/step - loss: 1.6689 - accuracy: 0.4498 - val_loss: 1.1713 - val_accuracy: 0.6568\n",
            "Epoch 134/5000\n",
            "55/66 [========================>.....] - ETA: 0s - loss: 1.6611 - accuracy: 0.4440\n",
            "Epoch 134: saving model to model/keypoint_classifier\\keypoint_classifier.keras\n",
            "66/66 [==============================] - 0s 2ms/step - loss: 1.6676 - accuracy: 0.4405 - val_loss: 1.1788 - val_accuracy: 0.6539\n",
            "Epoch 135/5000\n",
            "50/66 [=====================>........] - ETA: 0s - loss: 1.6634 - accuracy: 0.4411\n",
            "Epoch 135: saving model to model/keypoint_classifier\\keypoint_classifier.keras\n",
            "66/66 [==============================] - 0s 2ms/step - loss: 1.6593 - accuracy: 0.4438 - val_loss: 1.1734 - val_accuracy: 0.6582\n",
            "Epoch 136/5000\n",
            "57/66 [========================>.....] - ETA: 0s - loss: 1.6617 - accuracy: 0.4430\n",
            "Epoch 136: saving model to model/keypoint_classifier\\keypoint_classifier.keras\n",
            "66/66 [==============================] - 0s 2ms/step - loss: 1.6609 - accuracy: 0.4442 - val_loss: 1.1758 - val_accuracy: 0.6611\n",
            "Epoch 137/5000\n",
            "55/66 [========================>.....] - ETA: 0s - loss: 1.6760 - accuracy: 0.4490\n",
            "Epoch 137: saving model to model/keypoint_classifier\\keypoint_classifier.keras\n",
            "66/66 [==============================] - 0s 2ms/step - loss: 1.6755 - accuracy: 0.4483 - val_loss: 1.1809 - val_accuracy: 0.6564\n",
            "Epoch 138/5000\n",
            "56/66 [========================>.....] - ETA: 0s - loss: 1.6641 - accuracy: 0.4410\n",
            "Epoch 138: saving model to model/keypoint_classifier\\keypoint_classifier.keras\n",
            "66/66 [==============================] - 0s 2ms/step - loss: 1.6542 - accuracy: 0.4465 - val_loss: 1.1557 - val_accuracy: 0.6700\n",
            "Epoch 139/5000\n",
            "54/66 [=======================>......] - ETA: 0s - loss: 1.6408 - accuracy: 0.4476\n",
            "Epoch 139: saving model to model/keypoint_classifier\\keypoint_classifier.keras\n",
            "66/66 [==============================] - 0s 2ms/step - loss: 1.6404 - accuracy: 0.4488 - val_loss: 1.1752 - val_accuracy: 0.6528\n",
            "Epoch 140/5000\n",
            "54/66 [=======================>......] - ETA: 0s - loss: 1.6585 - accuracy: 0.4424\n",
            "Epoch 140: saving model to model/keypoint_classifier\\keypoint_classifier.keras\n",
            "66/66 [==============================] - 0s 2ms/step - loss: 1.6524 - accuracy: 0.4416 - val_loss: 1.1563 - val_accuracy: 0.6772\n",
            "Epoch 141/5000\n",
            "55/66 [========================>.....] - ETA: 0s - loss: 1.6482 - accuracy: 0.4568\n",
            "Epoch 141: saving model to model/keypoint_classifier\\keypoint_classifier.keras\n",
            "66/66 [==============================] - 0s 2ms/step - loss: 1.6460 - accuracy: 0.4556 - val_loss: 1.1399 - val_accuracy: 0.6807\n",
            "Epoch 142/5000\n",
            "56/66 [========================>.....] - ETA: 0s - loss: 1.6469 - accuracy: 0.4496\n",
            "Epoch 142: saving model to model/keypoint_classifier\\keypoint_classifier.keras\n",
            "66/66 [==============================] - 0s 2ms/step - loss: 1.6435 - accuracy: 0.4508 - val_loss: 1.1667 - val_accuracy: 0.6625\n",
            "Epoch 143/5000\n",
            "56/66 [========================>.....] - ETA: 0s - loss: 1.6721 - accuracy: 0.4369\n",
            "Epoch 143: saving model to model/keypoint_classifier\\keypoint_classifier.keras\n",
            "66/66 [==============================] - 0s 2ms/step - loss: 1.6681 - accuracy: 0.4382 - val_loss: 1.1841 - val_accuracy: 0.6761\n",
            "Epoch 144/5000\n",
            "54/66 [=======================>......] - ETA: 0s - loss: 1.6402 - accuracy: 0.4510\n",
            "Epoch 144: saving model to model/keypoint_classifier\\keypoint_classifier.keras\n",
            "66/66 [==============================] - 0s 2ms/step - loss: 1.6404 - accuracy: 0.4507 - val_loss: 1.1693 - val_accuracy: 0.6614\n",
            "Epoch 145/5000\n",
            "55/66 [========================>.....] - ETA: 0s - loss: 1.6453 - accuracy: 0.4476\n",
            "Epoch 145: saving model to model/keypoint_classifier\\keypoint_classifier.keras\n",
            "66/66 [==============================] - 0s 2ms/step - loss: 1.6417 - accuracy: 0.4504 - val_loss: 1.1580 - val_accuracy: 0.6793\n",
            "Epoch 146/5000\n",
            "57/66 [========================>.....] - ETA: 0s - loss: 1.6359 - accuracy: 0.4572\n",
            "Epoch 146: saving model to model/keypoint_classifier\\keypoint_classifier.keras\n",
            "66/66 [==============================] - 0s 2ms/step - loss: 1.6369 - accuracy: 0.4575 - val_loss: 1.1720 - val_accuracy: 0.6704\n",
            "Epoch 147/5000\n",
            "58/66 [=========================>....] - ETA: 0s - loss: 1.6487 - accuracy: 0.4479\n",
            "Epoch 147: saving model to model/keypoint_classifier\\keypoint_classifier.keras\n",
            "66/66 [==============================] - 0s 2ms/step - loss: 1.6505 - accuracy: 0.4486 - val_loss: 1.1588 - val_accuracy: 0.6646\n",
            "Epoch 148/5000\n",
            "57/66 [========================>.....] - ETA: 0s - loss: 1.6449 - accuracy: 0.4461\n",
            "Epoch 148: saving model to model/keypoint_classifier\\keypoint_classifier.keras\n",
            "66/66 [==============================] - 0s 1ms/step - loss: 1.6437 - accuracy: 0.4445 - val_loss: 1.1650 - val_accuracy: 0.6700\n",
            "Epoch 149/5000\n",
            "49/66 [=====================>........] - ETA: 0s - loss: 1.6358 - accuracy: 0.4584\n",
            "Epoch 149: saving model to model/keypoint_classifier\\keypoint_classifier.keras\n",
            "66/66 [==============================] - 0s 2ms/step - loss: 1.6347 - accuracy: 0.4579 - val_loss: 1.1588 - val_accuracy: 0.6679\n",
            "Epoch 150/5000\n",
            "59/66 [=========================>....] - ETA: 0s - loss: 1.6247 - accuracy: 0.4539\n",
            "Epoch 150: saving model to model/keypoint_classifier\\keypoint_classifier.keras\n",
            "66/66 [==============================] - 0s 2ms/step - loss: 1.6248 - accuracy: 0.4521 - val_loss: 1.1536 - val_accuracy: 0.6772\n",
            "Epoch 151/5000\n",
            "55/66 [========================>.....] - ETA: 0s - loss: 1.6419 - accuracy: 0.4484\n",
            "Epoch 151: saving model to model/keypoint_classifier\\keypoint_classifier.keras\n",
            "66/66 [==============================] - 0s 2ms/step - loss: 1.6385 - accuracy: 0.4487 - val_loss: 1.1631 - val_accuracy: 0.6607\n",
            "Epoch 152/5000\n",
            "55/66 [========================>.....] - ETA: 0s - loss: 1.6359 - accuracy: 0.4518\n",
            "Epoch 152: saving model to model/keypoint_classifier\\keypoint_classifier.keras\n",
            "66/66 [==============================] - 0s 2ms/step - loss: 1.6326 - accuracy: 0.4516 - val_loss: 1.1555 - val_accuracy: 0.6693\n",
            "Epoch 153/5000\n",
            "57/66 [========================>.....] - ETA: 0s - loss: 1.6480 - accuracy: 0.4494\n",
            "Epoch 153: saving model to model/keypoint_classifier\\keypoint_classifier.keras\n",
            "66/66 [==============================] - 0s 2ms/step - loss: 1.6483 - accuracy: 0.4496 - val_loss: 1.1590 - val_accuracy: 0.6682\n",
            "Epoch 154/5000\n",
            "58/66 [=========================>....] - ETA: 0s - loss: 1.6577 - accuracy: 0.4459\n",
            "Epoch 154: saving model to model/keypoint_classifier\\keypoint_classifier.keras\n",
            "66/66 [==============================] - 0s 1ms/step - loss: 1.6576 - accuracy: 0.4459 - val_loss: 1.1590 - val_accuracy: 0.6700\n",
            "Epoch 155/5000\n",
            "55/66 [========================>.....] - ETA: 0s - loss: 1.6377 - accuracy: 0.4545\n",
            "Epoch 155: saving model to model/keypoint_classifier\\keypoint_classifier.keras\n",
            "66/66 [==============================] - 0s 2ms/step - loss: 1.6319 - accuracy: 0.4593 - val_loss: 1.1717 - val_accuracy: 0.6514\n",
            "Epoch 156/5000\n",
            "57/66 [========================>.....] - ETA: 0s - loss: 1.6334 - accuracy: 0.4553\n",
            "Epoch 156: saving model to model/keypoint_classifier\\keypoint_classifier.keras\n",
            "66/66 [==============================] - 0s 2ms/step - loss: 1.6283 - accuracy: 0.4542 - val_loss: 1.1601 - val_accuracy: 0.6779\n",
            "Epoch 157/5000\n",
            "55/66 [========================>.....] - ETA: 0s - loss: 1.6488 - accuracy: 0.4476\n",
            "Epoch 157: saving model to model/keypoint_classifier\\keypoint_classifier.keras\n",
            "66/66 [==============================] - 0s 2ms/step - loss: 1.6450 - accuracy: 0.4495 - val_loss: 1.1479 - val_accuracy: 0.6854\n",
            "Epoch 158/5000\n",
            "57/66 [========================>.....] - ETA: 0s - loss: 1.6251 - accuracy: 0.4594\n",
            "Epoch 158: saving model to model/keypoint_classifier\\keypoint_classifier.keras\n",
            "66/66 [==============================] - 0s 2ms/step - loss: 1.6294 - accuracy: 0.4610 - val_loss: 1.1606 - val_accuracy: 0.6707\n",
            "Epoch 159/5000\n",
            "57/66 [========================>.....] - ETA: 0s - loss: 1.6259 - accuracy: 0.4520\n",
            "Epoch 159: saving model to model/keypoint_classifier\\keypoint_classifier.keras\n",
            "66/66 [==============================] - 0s 2ms/step - loss: 1.6294 - accuracy: 0.4519 - val_loss: 1.1699 - val_accuracy: 0.6650\n",
            "Epoch 160/5000\n",
            "58/66 [=========================>....] - ETA: 0s - loss: 1.6208 - accuracy: 0.4549\n",
            "Epoch 160: saving model to model/keypoint_classifier\\keypoint_classifier.keras\n",
            "66/66 [==============================] - 0s 1ms/step - loss: 1.6193 - accuracy: 0.4530 - val_loss: 1.1595 - val_accuracy: 0.6535\n",
            "Epoch 161/5000\n",
            "55/66 [========================>.....] - ETA: 0s - loss: 1.6206 - accuracy: 0.4628\n",
            "Epoch 161: saving model to model/keypoint_classifier\\keypoint_classifier.keras\n",
            "66/66 [==============================] - 0s 2ms/step - loss: 1.6157 - accuracy: 0.4652 - val_loss: 1.1718 - val_accuracy: 0.6467\n",
            "Epoch 161: early stopping\n"
          ]
        },
        {
          "data": {
            "text/plain": [
              "<keras.src.callbacks.History at 0x2a96de91e50>"
            ]
          },
          "execution_count": 44,
          "metadata": {},
          "output_type": "execute_result"
        }
      ],
      "source": [
        "model.fit(\n",
        "    X_train,\n",
        "    y_train,\n",
        "    epochs=1000,\n",
        "    batch_size=128,\n",
        "    validation_data=(X_test, y_test),\n",
        "    callbacks=[cp_callback, es_callback]\n",
        ")"
      ]
    },
    {
      "cell_type": "code",
      "execution_count": 45,
      "metadata": {
        "colab": {
          "base_uri": "https://localhost:8080/"
        },
        "id": "pxvb2Y299hE3",
        "outputId": "59eb3185-2e37-4b9e-bc9d-ab1b8ac29b7f"
      },
      "outputs": [
        {
          "name": "stdout",
          "output_type": "stream",
          "text": [
            "22/22 [==============================] - 0s 788us/step - loss: 1.1718 - accuracy: 0.6467\n"
          ]
        }
      ],
      "source": [
        "# Model evaluation\n",
        "val_loss, val_acc = model.evaluate(X_test, y_test, batch_size=128)"
      ]
    },
    {
      "cell_type": "code",
      "execution_count": 46,
      "metadata": {
        "id": "RBkmDeUW9hE4"
      },
      "outputs": [],
      "source": [
        "# Loading the saved model\n",
        "model = tf.keras.models.load_model(model_save_path)"
      ]
    },
    {
      "cell_type": "code",
      "execution_count": 47,
      "metadata": {
        "colab": {
          "base_uri": "https://localhost:8080/"
        },
        "id": "tFz9Tb0I9hE4",
        "outputId": "1c3b3528-54ae-4ee2-ab04-77429211cbef"
      },
      "outputs": [
        {
          "name": "stdout",
          "output_type": "stream",
          "text": [
            "1/1 [==============================] - 0s 29ms/step\n",
            "[2.6775200e-05 9.1498010e-03 5.7026400e-04 3.7608219e-03 9.0575748e-04\n",
            " 1.6546585e-03 3.8872051e-04 6.2150795e-02 7.6611298e-07 2.2983950e-06\n",
            " 1.3340344e-01 5.8447615e-05 1.5194419e-04 2.0895537e-04 4.4025481e-04\n",
            " 2.6512900e-05 8.6805818e-04 2.8307882e-01 5.4276125e-03 5.6312134e-04\n",
            " 1.8691906e-01 2.7280211e-01 3.7351251e-02 1.5942951e-05 8.0092253e-09\n",
            " 7.3784307e-05]\n",
            "17\n"
          ]
        }
      ],
      "source": [
        "# Inference test\n",
        "predict_result = model.predict(np.array([X_test[0]]))\n",
        "print(np.squeeze(predict_result))\n",
        "print(np.argmax(np.squeeze(predict_result)))"
      ]
    },
    {
      "cell_type": "markdown",
      "metadata": {
        "id": "S3U4yNWx9hE4"
      },
      "source": [
        "# Confusion matrix"
      ]
    },
    {
      "cell_type": "code",
      "execution_count": 48,
      "metadata": {
        "colab": {
          "base_uri": "https://localhost:8080/",
          "height": 582
        },
        "id": "AP1V6SCk9hE5",
        "outputId": "08e41a80-7a4a-4619-8125-ecc371368d19"
      },
      "outputs": [
        {
          "name": "stdout",
          "output_type": "stream",
          "text": [
            "88/88 [==============================] - 0s 644us/step\n"
          ]
        },
        {
          "data": {
            "image/png": "[encoded data removed]",
            "text/plain": [
              "<Figure size 700x600 with 2 Axes>"
            ]
          },
          "metadata": {},
          "output_type": "display_data"
        },
        {
          "name": "stdout",
          "output_type": "stream",
          "text": [
            "Classification Report\n",
            "              precision    recall  f1-score   support\n",
            "\n",
            "           0       0.39      0.14      0.21        83\n",
            "           1       0.99      0.74      0.84       106\n",
            "           2       0.98      0.39      0.56       103\n",
            "           3       0.96      0.59      0.73       114\n",
            "           4       0.71      0.55      0.62       124\n",
            "           5       0.94      0.93      0.94       105\n",
            "           6       0.49      0.58      0.53        89\n",
            "           7       0.68      0.50      0.58       110\n",
            "           8       0.99      0.99      0.99        93\n",
            "           9       0.76      0.98      0.86       118\n",
            "          10       1.00      0.46      0.63        72\n",
            "          11       0.98      0.81      0.89        77\n",
            "          12       0.57      0.26      0.35        90\n",
            "          13       0.00      0.00      0.00        88\n",
            "          14       0.59      0.83      0.69        93\n",
            "          15       0.75      0.99      0.85       103\n",
            "          16       0.65      1.00      0.79        99\n",
            "          17       0.31      0.60      0.41       119\n",
            "          18       0.57      0.19      0.29       135\n",
            "          19       0.36      0.94      0.52       170\n",
            "          20       1.00      0.01      0.02       100\n",
            "          21       0.19      0.20      0.19       111\n",
            "          22       0.94      0.88      0.91       161\n",
            "          23       0.79      0.94      0.86       106\n",
            "          24       0.98      0.96      0.97       113\n",
            "          25       0.65      0.93      0.76       112\n",
            "\n",
            "    accuracy                           0.65      2794\n",
            "   macro avg       0.70      0.63      0.61      2794\n",
            "weighted avg       0.70      0.65      0.62      2794\n",
            "\n"
          ]
        }
      ],
      "source": [
        "import pandas as pd\n",
        "import seaborn as sns\n",
        "import matplotlib.pyplot as plt\n",
        "from sklearn.metrics import confusion_matrix, classification_report\n",
        "\n",
        "def print_confusion_matrix(y_true, y_pred, report=True):\n",
        "    labels = sorted(list(set(y_true)))\n",
        "    cmx_data = confusion_matrix(y_true, y_pred, labels=labels)\n",
        "    \n",
        "    df_cmx = pd.DataFrame(cmx_data, index=labels, columns=labels)\n",
        " \n",
        "    fig, ax = plt.subplots(figsize=(7, 6))\n",
        "    sns.heatmap(df_cmx, annot=True, fmt='g' ,square=False)\n",
        "    ax.set_ylim(len(set(y_true)), 0)\n",
        "    plt.show()\n",
        "    \n",
        "    if report:\n",
        "        print('Classification Report')\n",
        "        print(classification_report(y_test, y_pred))\n",
        "\n",
        "Y_pred = model.predict(X_test)\n",
        "y_pred = np.argmax(Y_pred, axis=1)\n",
        "\n",
        "print_confusion_matrix(y_test, y_pred)"
      ]
    },
    {
      "cell_type": "markdown",
      "metadata": {
        "id": "FNP6aqzc9hE5"
      },
      "source": [
        "# Convert to model for Tensorflow-Lite"
      ]
    },
    {
      "cell_type": "code",
      "execution_count": 49,
      "metadata": {
        "id": "ODjnYyld9hE6"
      },
      "outputs": [],
      "source": [
        "# Save as a model dedicated to inference\n",
        "model.save(model_save_path)"
      ]
    },
    {
      "cell_type": "code",
      "execution_count": 50,
      "metadata": {
        "colab": {
          "base_uri": "https://localhost:8080/"
        },
        "id": "zRfuK8Y59hE6",
        "outputId": "a4ca585c-b5d5-4244-8291-8674063209bb"
      },
      "outputs": [
        {
          "name": "stdout",
          "output_type": "stream",
          "text": [
            "INFO:tensorflow:Assets written to: C:\\Users\\asusg\\AppData\\Local\\Temp\\tmpudjdx0ij\\assets\n"
          ]
        },
        {
          "name": "stderr",
          "output_type": "stream",
          "text": [
            "INFO:tensorflow:Assets written to: C:\\Users\\asusg\\AppData\\Local\\Temp\\tmpudjdx0ij\\assets\n"
          ]
        },
        {
          "data": {
            "text/plain": [
              "7540"
            ]
          },
          "execution_count": 50,
          "metadata": {},
          "output_type": "execute_result"
        }
      ],
      "source": [
        "# Transform model (quantization)\n",
        "\n",
        "converter = tf.lite.TFLiteConverter.from_keras_model(model)\n",
        "converter.optimizations = [tf.lite.Optimize.DEFAULT]\n",
        "tflite_quantized_model = converter.convert()\n",
        "\n",
        "open(tflite_save_path, 'wb').write(tflite_quantized_model)"
      ]
    },
    {
      "cell_type": "markdown",
      "metadata": {
        "id": "CHBPBXdx9hE6"
      },
      "source": [
        "# Inference test"
      ]
    },
    {
      "cell_type": "code",
      "execution_count": 51,
      "metadata": {
        "id": "mGAzLocO9hE7"
      },
      "outputs": [],
      "source": [
        "interpreter = tf.lite.Interpreter(model_path=tflite_save_path)\n",
        "interpreter.allocate_tensors()"
      ]
    },
    {
      "cell_type": "code",
      "execution_count": 52,
      "metadata": {
        "id": "oQuDK8YS9hE7"
      },
      "outputs": [],
      "source": [
        "# Get I / O tensor\n",
        "input_details = interpreter.get_input_details()\n",
        "output_details = interpreter.get_output_details()"
      ]
    },
    {
      "cell_type": "code",
      "execution_count": 53,
      "metadata": {
        "id": "2_ixAf_l9hE7"
      },
      "outputs": [],
      "source": [
        "interpreter.set_tensor(input_details[0]['index'], np.array([X_test[0]]))"
      ]
    },
    {
      "cell_type": "code",
      "execution_count": 54,
      "metadata": {
        "colab": {
          "base_uri": "https://localhost:8080/"
        },
        "id": "s4FoAnuc9hE7",
        "outputId": "91f18257-8d8b-4ef3-c558-e9b5f94fabbf",
        "scrolled": true
      },
      "outputs": [
        {
          "name": "stdout",
          "output_type": "stream",
          "text": [
            "CPU times: total: 0 ns\n",
            "Wall time: 0 ns\n"
          ]
        }
      ],
      "source": [
        "%%time\n",
        "# Inference implementation\n",
        "interpreter.invoke()\n",
        "tflite_results = interpreter.get_tensor(output_details[0]['index'])"
      ]
    },
    {
      "cell_type": "code",
      "execution_count": 55,
      "metadata": {
        "colab": {
          "base_uri": "https://localhost:8080/"
        },
        "id": "vONjp19J9hE8",
        "outputId": "77205e24-fd00-42c4-f7b6-e06e527c2cba"
      },
      "outputs": [
        {
          "name": "stdout",
          "output_type": "stream",
          "text": [
            "[2.6775182e-05 9.1497963e-03 5.7026406e-04 3.7608205e-03 9.0575678e-04\n",
            " 1.6546572e-03 3.8872022e-04 6.2150795e-02 7.6611167e-07 2.2983954e-06\n",
            " 1.3340344e-01 5.8447680e-05 1.5194407e-04 2.0895523e-04 4.4025472e-04\n",
            " 2.6512878e-05 8.6805754e-04 2.8307888e-01 5.4276083e-03 5.6312123e-04\n",
            " 1.8691905e-01 2.7280217e-01 3.7351251e-02 1.5942953e-05 8.0092111e-09\n",
            " 7.3784387e-05]\n",
            "17\n"
          ]
        }
      ],
      "source": [
        "print(np.squeeze(tflite_results))\n",
        "print(np.argmax(np.squeeze(tflite_results)))"
      ]
    }
  ],
  "metadata": {
    "accelerator": "GPU",
    "colab": {
      "collapsed_sections": [],
      "name": "keypoint_classification_EN.ipynb",
      "provenance": [],
      "toc_visible": true
    },
    "kernelspec": {
      "display_name": "Python 3",
      "language": "python",
      "name": "python3"
    },
    "language_info": {
      "codemirror_mode": {
        "name": "ipython",
        "version": 3
      },
      "file_extension": ".py",
      "mimetype": "text/x-python",
      "name": "python",
      "nbconvert_exporter": "python",
      "pygments_lexer": "ipython3",
      "version": "3.11.9"
    }
  },
  "nbformat": 4,
  "nbformat_minor": 0
}
